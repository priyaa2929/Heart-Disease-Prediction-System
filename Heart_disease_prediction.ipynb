{
 "cells": [
  {
   "cell_type": "markdown",
   "metadata": {
    "_uuid": "bbd660b62cc616efa33651beedc49b86045b784d"
   },
   "source": [
    "## <font size=5> <strong>Heart Disease Prediction By Heart Guard"
   ]
  },
  {
   "cell_type": "markdown",
   "metadata": {
    "_uuid": "e41ea25bec5928203cec544d0413fecd4b4e5555"
   },
   "source": [
    "## I. Importing essential libraries"
   ]
  },
  {
   "cell_type": "code",
   "execution_count": 1,
   "metadata": {
    "_uuid": "f571f7e57c828d45fe55f6136fe8c2e796f74d4e"
   },
   "outputs": [
    {
     "name": "stdout",
     "output_type": "stream",
     "text": [
      "['-- گگن-- on Instagram_ __KhaLnayAk------__BraSQTvA.jpg', '.ipynb_checkpoints', '1. Beers Law.pdf', '1. Introduction to AI.pdf', '1.1 Arrays in Data Structure _ Declaration, Initialization, Memory representation.mp4', '1.2 Array Operations - Traversal, Insertion _ full explanation with C program _ data structure.mp4', '1.pdf', '1.Process Basics.mov', '10 Data Sets-Introduction.pdf', '10.dwg', '101-presentation---what-is-secularism (1).pptx', '101-presentation---what-is-secularism.pptx', '102103310_NitishGaba_coe21 (1).docx', '102103310_NitishGaba_coe21.docx', '102103569_Lakshay_Beri.docx', '102103571AS-8_Rijul_bhatt.docx', '102103571_RijulBhatt.docx', '102103573_Lavish Dhiman_DBMS3.docx', '102103575_DBMS_SachinSushilSingh_Assignment_2.pdf', '102103576_AS-8_Daksh_lumb.docx', '102103576_AS3.docx', '102103578_AayushiBansal_COE21.docx', '102103578_Aayushi_Bansal.docx', '102103581_Ishika_Garg.docx', '102103585_Assignment_1 (1).docx', '102103585_Assignment_1.docx', '102103585_Assignment_2 (1).docx', '102103585_Assignment_2 (2).docx', '102103585_Assignment_2.docx', '102103588_DBMS lab assignment2.docx', '102103593_MohitMonga_COE21.docx', '102103594_sehaj_dbms3.docx', '102117133_Chetan_Aggarwal_CS5.pdf', '102153001_namangoyal_coe13.docx', '102153001_namangoyal_coe13.pdf', '10_Planar Graph.mp4', '11. Model Evaluation Parameters.pdf', '11_Shortest Path (Dijkstra_s Algorithm).mp4', '12. KNN.pdf', '12_Max Flow Ford Fulkerson Algorithm.mp4', '13_MST (Kruskal_s Algorithm).mp4', '14_MST (Prim_s Algorithm).mp4', '14_MST_With_Solutions.pdf', '15. Network Layer & Subnetting.ppt.pdf', '15_All Pair Shortest Path (Floyd Warshall’s Algorithm).mp4', '1_Definition and Different types of Graph.mp4', '1_Relations and Its Introduction.mp4', '2. Divide and Conquer-20230315.zip', '2. Intelligent Agents.pdf', '2.Degree of Multiprograming.m4v', '2.pdf', '2122evensem.pdf', '2122oddsem.pdf', '2223oddsem.pdf', '2361XXXXXXXXX350917-07-2022.pdf', '273745855_427492899063314_8416449135091347088_n.jpg', '279040433_1068740757014329_6914729701036550305_n.jpg', '2_Degree of a vertex.mp4', '2_Properties of Relations-I.mp4', '3. Problems, Problem Spaces And Search.pdf', '3.OS prcess scheduling.m4v', '3.pdf', '302503454_842944130028179_4803160238127459656_n.jpg', '308489468_796774071524450_172825790053650562_n.jpg', '35_FORMATS_OF_CERTIFICATES.pdf', '3e0d39-LUA', '3e0d39-LUA.zip', '3uTools_v2.63.003_Setup.exe', '3_Complete, Regular, Cycle, Wheel, N Cube.mp4', '3_PL.mp4', '3_Properties of Relations-II.mp4', '4 (1).pdf', '4-Types of Schedulers.mov', '4. UNINFORMED SEARCH ALGORITHMS.pdf', '4.pdf', '4_Complementary, Converse, Bipartite and complete Bipartite Graph.mp4', '4_Inverse, Complementary and combining relations.mp4', '4_PL.mp4', '4_Undertaking for properties damage nimish.pdf', '4_Undertaking for properties damage rachit.pdf', '5 (1).pdf', '5, Informed Searching Algorithms-I.pdf', '5-Operation on Processes part 1.mov', '5.pdf', '50200056922799_1640841972157.pdf', '5_Composite Relations.mp4', '5_PL.mp4', '5_Repesenting Graph and Isomorphism of Graphs.mp4', '6-Operations on processes part 2 (1).mov', '6-Operations on processes part 2.mov', '6. Informed Searching Algorithms-II.pdf', '6_Equivalence Relations.mp4', '6_Path, Circuit, Connected Component.mp4', '6_PL.mp4', '7-IPC part 1.mov', '7. Stochastic Search Algorithms-I.pdf', '7.4 Tutorial Sheet - Polymers.pdf', '786-gourav-gakhar.pdf', '7_Cut Vertices, Cut Edges and Counting Path.mp4', '7_Equivalence Classes.mp4', '7_PL.mp4', '8-IPC part 2.mov', '8. Stochastic Search Algorithm- II.pdf', '8_Euler Path and Circuit, Hamiltonian Path and Circuit.mp4', '9 Introduction to Machine Learning.pdf', '92d1c638-07ac-4a43-b76c-8ce1b1cc9c96.tmp', '9_Graph Coloring.mp4', 'a . Polymers (1).pdf', 'a . Polymers (2).pdf', 'a . Polymers (3).pdf', 'a . Polymers.pdf', 'a. Atomic Emission Spectroscopy - Principle (1).pdf', 'a. Atomic Emission Spectroscopy - Principle.pdf', 'A3_102103577_Hrithik_garg.pdf', 'Aayushi Bansal CO21.pdf', 'AayushiBansal_102103578 (1).pdf', 'AayushiBansal_102103578.pdf', 'AayushiBansal_102103578_SQL2.pdf', 'AayushiBansal_102103578_SQL3.pdf', 'AccountStatment17720221228788.pdf', 'AccountStatment17720221229552.xlsx', 'AccountStatment301220211018577.pdf', 'add-vuforia-package-10-9-3.unitypackage', 'aFilmywap_-_Aaja_Mexico_Chaliye_(2022)_Punjabi_Full_Movie_480p_(aFilmyWap.Cam).mp4', 'aFilmywap_-_Lekh_(2022)_Punjabi_Full_Movie_480p_(aFilmyWap.Cam).mp4', 'AI lab python.pdf', 'all-iso.dwg', 'ambulance-icon-vector-removebg-preview.png', 'AMIT SOP 1.docx', 'Anaconda3-2023.03-Windows-x86_64.exe', 'ananya.docx', 'ananya2.pdf', 'android-studio-2020.3.1.25-windows.exe', 'app.apk', 'APznzabYYJbm9o_5a3qAO3Szr_obn6PW2X632X0cXVP6a-HL3sezkmj_8ipswpTaCJoP-_0ax5x9qkEu9AzAsJWpo3Rr8SU42pplDqnKya...U0D4-H_nBkCvv_kH7eNxzBNdId2DlBfiafqcQPmu1t7A4jgG3lJGETWym2QVzeqtcxHI8SaZwRo62C_IQKT7bV9Xn0OC-sg38LZ7J_YrdCvIOQiy0deM1vTQ==.pdf', 'arduino-1.8.19-windows.exe', 'arranged-marriages.pdf', 'As 8 102103583 Ishaan Sharma.docx', 'As1_IshaanS_DBMS (1).docx', 'As1_IshaanS_DBMS.docx', 'ashishverma_102117164.docx', 'Ass 3.xlsx', 'Assignment 0.pdf', 'ASSIGNMENT 1 EDP .....pdf', 'Assignment 1_102153023_Pritish.docx', 'Assignment 1_A.pdf', 'ASSIGNMENT 2 (1).docx', 'ASSIGNMENT 2 (2).docx', 'Assignment 2 Anraobir Singh.docx', 'Assignment 2 Anraobir Singh.pdf', 'Assignment 2 EDP V.pdf', 'assignment 2 individual mohit (1).docx', 'assignment 2 individual mohit (1).pdf', 'assignment 2 individual mohit.docx', 'Assignment 2.docx', 'Assignment 2_102103593_mohit monga_.docx', 'Assignment 2_102103593_Mohit_monga.docx', 'Assignment 2_102153023_Pritish Priyam (1).docx', 'Assignment 2_102153023_Pritish Priyam.docx', 'Assignment 2_102153023_Pritish.docx', 'Assignment 3 mangonel electronics.pdf', 'Assignment 3.docx', 'Assignment 3_102103592.xlsx', 'Assignment 3_102103593_mohit monga.docx', 'Assignment 3_102103593_mohit monga_.docx', 'Assignment 3_102153023_Pritish Priyam.docx', 'Assignment 4 mohit.docx', 'Assignment 4 mohit.pdf', 'Assignment 4.docx', 'ASSIGNMENT 4_102103592.xlsx', 'assignment 8 lavish.docx', 'assignment 8 madhav.docx', 'assignment 8 sehaj.docx', 'Assignment 8_102153023_Pritish Priyam (1).docx', 'Assignment Tasks.docx', 'Assignment-1_images (1).pdf', 'Assignment-1_images.pdf', 'Assignment1_Mohit_102103593_edp.xlsx', 'Assignment1_Rachit_102103592_edp.xlsx', 'Assignment2_Mohit_102103593_edp assignment 1 ko rename kiya hai.xlsx', 'Assignment2_Mohit_102103593_edp assignment 1 ko rename kiya haii.xlsx', 'Assignment2_Mohit_102103593_edp.xlsx', 'Assignment3_102103581.docx', 'assignment8_102103587_ananya.docx', 'Assignment8_102153024_Naval Garg.docx', 'Assignment_1.docx', 'Assignment_102103574_aaryan (1).zip', 'Assignment_102103574_aaryan.zip', 'Assignment_1_102103592_edp.pdf.docx', 'Assignment_1_102103593.pdf', 'Assignment_1_DBMS_SachinSushilSingh_102103575.pdf', 'Assignment_1_Parv_102103591.docx', 'Assignment_3.docx', 'Assignment_3_Mohit.docx', 'Assignment_3_Mohit.pdf', 'Assignment_3_Nimish.docx', 'Assignment_3_Nimish.pdf', 'Assignment_3_parv_102103591.docx', 'Assignment_4.docx', 'Assignment_4_mohit.docx', 'Assignment_4_Mohit.pdf', 'Assignment_4_Nimish.docx', 'Assignment_4_Nimish.pdf', 'Assignment_7&8_DataStructures_SachinSushilSingh_102103575.docx', 'Assignment_8_HrithikGarg_102103577_2CO21.pdf', 'Assignment_8_Nimish.docx', 'Assignmnet 3.pdf', 'ass_8_102103591.docx', 'AS_2_dakshlumb_102103576.docx', 'Autodesk_EAGLE_9.6.2_English_Win_64bit.exe', 'auxaug.pdf', 'auxaug22.pdf', 'avani_102103016_coe21_dbms2.docx', 'AVANI_102103016_DBMS3.docx', 'b. Atomic Emission Spectroscopy - Instrumentation.pdf', 'B9ECED6F.ASUSPCAssistant_qmba6cd70vzyy!App', 'Badmashi (Official Video) Prem Dhillon San B Latest Punjabi Songs 2021_360P.mp4', 'Bai Bai (Full Video) Arjan Dhillon Mxrci Latest Punjabi Songs 2020_360P.mp4', 'bdcamsetup.exe', 'beti 2.O.jfif', 'beti.jfif', 'BFS.py', 'Binary Search Tree.pdf', 'BlockchainProject', 'BlockchainProject-main', 'BlockchainProject-main.zip', 'BlockchainProject.zip', 'BlueStacksMicroInstaller_5.4.0.1063_native_6226b0467d470166a32623bfa14f2f30_0 (1).exe', 'BMI-Calculator-main', 'BMI-Calculator-main.zip', 'Boot Cut _ Prem Dhillon Sidhu Moose Wala (Full Video) Tdot Films SanB Latest Punjabi Song 2019_360P.mp4', 'Brilliant Blorr-Leelo (1).png', 'BT_MediaTek_v1.4.14.132', 'BT_MediaTek_v1.4.14.132.zip', 'C ANARA BANK.pdf', 'c++ with dsa foundation course', 'c7200-adventerprisek9-mz.152-4.M7.bin', 'CameraHub_1.5.1.887_x64.msi', 'camo-windows-latest.msi', 'Canva Setup 1.41.0.exe', 'cao syllabus.jpg', 'Celebrity Killer (Full Video) Sidhu Moose Wala Tion Wayne Raf-Saperra Moosetape_360P.mp4', 'Ch5.pdf', 'Ch8_Register Organization.pdf', 'Ch9.pdf', 'Chapter 11.pdf', 'CHEM Merged.pdf', 'CO21 NAME LIST (1).xlsx', 'CO21 NAME LIST.xlsx', 'co21 roll no. with name updated 2nd year (1) (1).xlsx', 'co21 roll no. with name updated 2nd year (1).xlsx', 'co21 roll no. with name updated 2nd year finalll.xlsx', 'co21 roll no. with name updated 2nd year.xlsx', 'co21 roll no. with name updated.xlsx', 'cocacola-company-allegations-of-pesticides-in-softdrinks-in-india.pptx', 'coin change greedy and dynamic.pdf', 'Combinational Circuits (1).pptx', 'Combinational Circuits.pptx', 'Computer 1st sem C language slides.pdf', 'Copy of Copy of task3a.brd', 'cseethicalhackingppt-171011183223.pdf', 'd.pdf', 'd3dcompiler_43', 'd3dcompiler_43.zip', 'd3dx9_43', 'd3dx9_43.zip', 'd7b2be-GTA 5 Detailed Money Menu By MrGTAmodsgerman', 'd7b2be-GTA 5 Detailed Money Menu By MrGTAmodsgerman.zip', 'Daa-20230130T170806Z-001.zip', 'Dakshlumb_102103576.txt', 'Daring Maimu-Curcan.png', 'daring_maimu_curcan1.ino', 'Darlings.2022.1080p.NF.WEB-DL.DDP5.1.x264-KHN.mkv', 'dbms 1 (1).docx', 'dbms 1.docx', 'DBMS A-2 Hrithik_garg 102103577 2CO21.pdf', 'DBMS Assgn_1 (1).txt', 'DBMS Assgn_1.txt', 'DBMS ASSIGNMENT                                Submitted by.pdf', 'DBMS Assignment 1.pdf', 'DBMS a_2 Lakshay 3569.txt', 'DBMS LAB ASSIGNMENT 1 (1).docx', 'DBMS LAB ASSIGNMENT 1 (2).docx', 'DBMS LAB ASSIGNMENT 1.docx', 'DBMS Lab Assignment 1_102103588_Tanya Tomer(Co21) (1).docx', 'DBMS Lab Assignment 1_102103588_Tanya Tomer(Co21).docx', 'DBMSAssgn_3_102103569.docx', 'DBMS_Assignment3_102103595_Ridhi.pdf', 'DC Machine Unit.pdf', 'dd.pdf', 'desktop.ini', 'Dev-Cpp 5.11 TDM-GCC 4.9.2 Setup.exe', 'DFS.py', 'Diffraction (2) (1).pptx', 'Diffraction.pdf', 'diffrential_eqs[1].pdf', 'Diljit Dosanjh_ Born To Shine (Official Music Video) G.O.A.T_360P.mp4', 'DiscordSetup.exe', 'Divide_Conquer_Merge_Quick_BinarySearch.pdf', 'DMBS Ass 1 (1).pdf', 'DMBS Ass 1.pdf', 'dms', 'Doc1.docx', 'DocScanner 6 May 2022 11-54 pm.pdf', 'Drawing2.bak', 'Drawing2.dwg', 'Drawing3.bak', 'Drawing3.dwg', 'Drawing4.bak', 'Drawing4.dwg', 'Drawing5.bak', 'Drawing5.dwg', 'Drawing6.dwg', 'Drawing7.dwg', 'Drawing8.bak', 'Drawing8.dwg', 'Drawing9.dwg', 'driverfusionfreesetup.exe', 'DroidCam.Setup.6.5.2.exe', 'DSA 8.docx', 'DSA Assg_Tanya Tomer.docx', 'dsa assignment 8', 'dsa assignment 8 co21.zip', 'DSA_assignment _8_102103574_Aaryan_Sood.docx', 'ebox.docx', 'ECED_Assignment-1 (1).pdf', 'ECED_Assignment-1 (2).pdf', 'ECED_Assignment-1.pdf', 'ECED_Assignment-4 (1).docx', 'ECED_Assignment-4 (1).pdf', 'EDP Assign 2.docx', 'EDP Assign 2.pdf', 'EDPAssign 2.docx', 'EDPAssign 2_mohit.docx', 'EDP_1 (1).docx', 'EDP_1 (2).docx', 'EDP_1.docx', 'edp_1_final.docx', 'EDP_ECED_1.pdf', 'elc activity mobile app .zip', 'electrical practical 1 (tinker cad) (1).docx', 'electrical practical 1 (tinker cad).docx', 'electronics tut (1).pdf', 'electronics tut (2).pdf', 'electronics tut.pdf', 'elwcrical practical mohit (1).docx', 'elwcrical practical mohit.docx', 'em experiment.xlsx', 'Energy and environment slides.pdf', 'Energy and Mass Balance (1).pptx', 'Energy and Mass Balance.pdf', 'Energy and Mass Balance.pptx', 'engineering materials', 'EpicGamesLauncher.exe', 'EpicInstaller-12.1.7.msi', 'eShiksa Portal-Sem4.pdf', 'EST Question Paper (1).pdf', 'EST Question Paper.pdf', 'EST Solution (1).pdf', 'EST Solution.pdf', 'EST UCS303 Syllabus - December 2022.docx', 'Evaluative Assignment.docx', 'Exp to verify Thevenin theorem (Tinkercad) demo (1).docx', 'Exp to verify Thevenin theorem (Tinkercad) demo.docx', 'Experiment # 4Chem.pdf', 'Experiment 6_Determination of alkalinity and chloride content (1).pdf', 'Experiment 6_Determination of alkalinity and chloride content (2).pdf', 'Experiment 6_Determination of alkalinity and chloride content (3).pdf', 'Experiment 6_Determination of alkalinity and chloride content (4).pdf', 'Experiment 6_Determination of alkalinity and chloride content (5).pdf', 'Experiment 6_Determination of alkalinity and chloride content (6).pdf', 'Experiment 6_Determination of alkalinity and chloride content.pdf', 'E_Content Video Lectures-20211107', 'E_Content Video Lectures-20211107.zip', 'Farming _ Laddi Chahal ft Parmish Verma & Mahira Gurlej Akhtar Desi Crew New Punjabi Songs 2021_360P.mp4', 'Firefox Setup 95.0.2 (1).exe', 'Firefox Setup 95.0.2 (2).exe', 'Firefox Setup 95.0.2.exe', 'flutter_windows_3.0.3-stable', 'flutter_windows_3.0.3-stable.zip', 'Fractional_KnapSack_Greedy.pdf', 'free_screen_recorder_x32.exe', 'G Shit (Full Video) Sidhu Moose Wala Blockboi Twitch The Kidd Sukh Sanghera Moosetape_360P.mp4', 'G4_Report_Live_Media (1).docx', 'G4_Report_Live_Media (1).pdf', 'G4_Report_Live_Media (2).docx', 'G4_Report_Live_Media (2).pdf', 'G4_Report_Live_Media.docx', 'G4_Report_Live_Media.pdf', 'Gagan current hdfc.pdf', 'gagan saving hdfc.pdf', 'Gangs of Wasseypur - Part 1 (2012) (1080p BluRay x265 Natty) - ENIGMA.mkv', 'Gauss-elimination.pdf', 'Git-2.35.1.2-64-bit.exe', 'GNS3-2.2.37-all-in-one-regular.exe', 'GOAT (Full Video) Sidhu Moose Wala Wazir Patar Sukh Sanghera Moosetape_360P.mp4', 'Group Theory-2.pdf', 'Group Theory-3.pdf', 'gurmukh bca.pdf', 'gurmukh form.pdf', 'gurumaa.jpeg', 'heart.csv', 'Heart_disease_prediction.ipynb', 'HelpOnWheels.gif', 'HelpOnWheels.png', 'HelpOnWheels.svg', 'Hik-connect-for-PC', 'Hik-connect-for-PC.zip', 'HiteshAggarwal_102103596.zip', 'HiteshAggarwal_102103596_CO21.pdf', 'Homomorphism and Isomorphism  of Group.pdf', 'hostel fees sabki', 'how-important-money-is.pdf', 'Hrithik_garg2CO21Asignment-1.pdf', 'Huffman Codes.pdf', 'iCollectReceipt.PDF', 'IDGAF (Full Video) Sidhu Moose Wala Morrisson Steel Banglez TheKidd SukhSanghera Moosetape_360P.mp4', 'in.ac.pseb-MICER-20210290352021.pdf', 'in.cpp', 'index.php', 'Install VALORANT.exe', 'Introduction-Group Theory.pdf', 'Introduction_To_Dynamic_Programming.pdf', 'Intro_DAA_Lect_1.pdf', 'Intro_Greedy_Activity_Selection_JobSequencing_Deadline.pdf', 'IQP_for_Submissionlin.pdf', 'Ishaan Gupta (102103572)ASSIGNMENT 1 .docx', 'Ishaan Gupta(102103572)DBMS Assignment 3.docx', 'Ishaan Gupta(102103572)DBMS ASST2.docx', 'Ishaan Gupta(102103572)Lab ass 8 (1).docx', 'Ishaan Gupta(102103572)Lab ass 8.docx', 'IshaanSharma_102103583_CO21.docx', 'IshaanSharma_As2_102103583.docx', 'Ishika_Garg_102103581.pdf', 'ISO and ortho.pptx.pdf', 'iTunes64Setup (1).exe', 'iTunes64Setup.exe', 'Jacobi method _ Iterative method _ Solution of Linear System Equation.mp4', 'jai maa mon=bile hub.jpeg', 'jdk-17.0.5_windows-x64_bin.msi', 'jdk-8u341-windows-x64 (1).exe', 'jdk-8u341-windows-x64.exe', 'jival.jpeg', 'jor jwani dhan.jpg', 'jre-8u341-windows-x64 (1).exe', 'jre-8u341-windows-x64.exe', 'Knapsack_0-1_LCS_Problem_DP.pdf', 'L01_Introduction to DBMS (1).pdf', 'L01_Introduction to DBMS.pdf', 'L02-Introduction to Relational Model (1).pdf', 'L02-Introduction to Relational Model.pdf', 'L03_DBMS Architecture (1).pdf', 'L03_DBMS Architecture.pdf', 'L04- DBMS Architecture (E-R Models) (1).pdf', 'L04- DBMS Architecture (E-R Models) (2).pdf', 'L04- DBMS Architecture (E-R Models).pdf', 'L05_ER_to_Tables (1).pdf', 'L05_ER_to_Tables.pdf', 'L06_SQL Basic and Sub-Query (1).pdf', 'L06_SQL Basic and Sub-Query.pdf', 'L07_Join in SQL.pdf', 'L09_Functional Dependency and Normalization (1).pdf', 'L09_Functional Dependency and Normalization.pdf', 'L0_Capacitor_dielectric (1).mp4', 'L0_Capacitor_dielectric.mp4', 'L0_Syllabus.pdf', 'L10_ TURNING.pdf', 'L10_Nortons Theorem.mp4', 'L10_Tool Geometry And Nomenclature_SKS.m4v', 'L10_Type of chips_SKS.mp4', 'L11_Max Power Transfer Theorem.mp4', 'L11_Tool materials_SKS.mp4', 'L11_Types of Chips.pdf', 'L12_ TOOL FAILURE  TOOL LIFE.pdf', 'L12_Reciprocity_Millman.mp4', 'L13_ MILLING  DRILLING.pdf', 'L14_GRINDING_Flip topic.pdf', 'L15_AC Single Phase_Concept_of_phasor.pptx', 'L15_Introdcution_metal forming_VJ.mp4', 'L15_Introduction to forming.pdf', 'L16_Rolling.pdf', 'L16_Rolling_VJ.mp4', 'L1_Active and Passive Elements (1).mp4', 'L1_Active and Passive Elements (2).mp4', 'L1_Active and Passive Elements.mp4', 'L1_Manufacturing Processes.pdf', 'L1_Manufacturing Processes.pptx', 'L2-L6_CNC.pdf', 'L2_Kirchhoffs Laws.mp4', 'L2_Network Element_KVL_KCL.pptx', 'L3_Equivalent Representation of Elements.mp4', 'L3_Source conversion.pptx', 'L4_Nodal Analysis 1.mp4', 'L5_Nodal Analysis 2.mp4', 'L6_Mesh Analysis 1.mp4', 'L7_a_Solved Example Mesh Current Method.mp4', 'L7_Material removal Process (single and multi point cutting tools).pdf', 'L7_Mesh Analysis 2.mp4', 'L8_ Superposition Theorem.mp4', 'L8_Tool geometry and nomenclature.pdf', 'L9 TOOL MATERIAL.pdf', 'L9_Machining processes (single and multi point cutting)_SKS.mp4', 'L9_Thevenins Theorem.mp4', 'LA2.brd', 'Laala Laala Kahlon Mxrci New Punjabi Songs 2021 Latest Punjabi Songs 2021 _360P.mp4', 'Lab Assignment 1.docx', 'Lab Assignment 8.docx', 'Lab Assignment 8.pdf', 'Lab Assignment– 3_102103588 (2).pdf', 'lab manual physics (1).pdf', 'lab manual physics.pdf', 'Lab Quiz-1 (1).pdf', 'Lab Quiz-1.pdf', 'Lab-3.docx', 'Lab-4.docx', 'LAB1_102103580 (1).docx', 'LAB1_102103580.docx', 'LAB2_102103580.docx', 'LAB3_102103580.docx', 'labassignment1_102103310.Nitish gaba.pdf', 'labassignment1_102103587.docx', 'labassignment2_102103587.docx', 'LabAssignment_102103579 (1).docx', 'LabAssignment_102103579.docx', 'Lab_ Assignment_1.pdf', 'lab_1_102103590.Anraobir Singh.pdf', 'Lab_8_102103585_submission.zip', 'Lab_8_102103596.zip', 'lab_assignment3_102103579.pdf', 'lab_assignment3_102103587.pdf', 'Lab_Assignment_2.pdf', 'Lab_Assignment_3.pdf', 'Lakshay_3569 assgn2.csv', 'LAPLACE NOTES.pdf', 'LASER - Part1.mp4', 'LASER Part2.mp4', 'LauncherPatcher.exe', 'Lavis Dhiman_102103573_Lab1 (1).docx', 'Lavis Dhiman_102103573_Lab1.docx', 'LavishDhiman_102103573_dbms2.pdf', 'Lecture 01 - UPH004 - Oscillations and Waves - 1.mp4', 'Lecture 02 - UPH004 - Oscillations and Waves - 2.mp4', 'Lecture 03 - UPH004 - Oscillations and Waves - 3.mp4', 'Lecture 04 - UPH004 - Oscillations and Waves - 4.mp4', 'lecture 1 intro.pdf', 'Lecture 15 X-ray diffraction.pdf', 'Lecture 16 X-ray diffraction.pdf', 'Lecture 17 Corrosion (1).pdf', 'Lecture 17 Corrosion (2).pdf', 'Lecture 17 Corrosion.pdf', 'Lecture 18 types of corrosion (1).pdf', 'Lecture 18 types of corrosion (2).pdf', 'Lecture 18 types of corrosion.pdf', 'Lecture 19 types of corrosion (1).pdf', 'Lecture 19 types of corrosion (2).pdf', 'Lecture 19 types of corrosion.pdf', 'Lecture 20 point defects (1).pdf', 'Lecture 20 point defects.pdf', 'Lecture 21  line defects.pdf', 'Lecture 22 Properties of line defects.pdf', 'Lecture 23 line defects dislocation movement.pdf', 'Lecture 24 Surface and volume defects.pdf', 'Lecture 25 Phase diagram.pdf', 'Lecture 26 Binary Isomorphous phase diagram.pdf', 'Lecture 27 Binary Eutectic phase diagram.pdf', 'Lecture 30-31 - LASER-1,2.pptx', 'Lecture 34 Conductors (1).pdf', 'Lecture 34 Conductors.pdf', 'Lecture 35 Semiconductors (1).pdf', 'Lecture 35 Semiconductors.pdf', 'Lecture 36 Dielectric materials.pdf', 'Lecture 38 Magnetic materials.pdf', 'Lecture 39 Magnetic domains (1).pdf', 'Lecture 39 Magnetic domains.pdf', 'Lecture 40 Superconductors.pdf', 'Lecture 8 Miller indices for directions.pdf', 'Lecture 9 Miller indices for planes.pdf', 'Lecture Slides-20221109 (1).zip', 'Lecture Slides-20221109 (2).zip', 'Lecture Slides-20221109 (3).zip', 'Lecture Slides-20221109 (4).zip', 'Lecture Slides-20221109.zip', 'Lecture2.ppt', 'Lecture3 (1).ppt', 'Lecture3.ppt', 'Lecture4.ppt', 'lghub_installer.exe', 'LIFE SCRIPT.pdf', 'Linear non-homogeneous Recurrence Relation.pdf', 'Linear Recurrence Relation (1).pdf', 'Linear Recurrence Relation-II.pdf', 'Linear Recurrence Relation.pdf', 'LogiCameraSettings_2.12.8.exe', 'Loom Setup 0.134.0.exe', 'Ma Belle - AP Dhillon (ft. Amari)_360P.mp4', 'MakeUp Marks.xlsx', 'manpro', 'Maths tut 1,2.pdf', 'Maths tut3.pdf', 'matlab_R2022a_win64.exe', 'Matrix Chain Multiplication using Dynamic Programming.pdf', 'MaxSubArray_DC.pdf', 'May_04_2021.mp4', 'May_05_2021 (1).mp4', 'May_05_2021.mp4', 'May_07_2021.mp4', 'May_25_2021.mp4', 'Mechanics 1st sem slides.pdf', 'mediangame.cpp', 'medical cerificate.pdf', 'Memory Organization.pdf', 'MenyooSP.zip', 'MESS FEES eShiksa Portal rachit.pdf', 'mingw-get-setup (1).exe', 'mingw-get-setup.exe', 'mingw-w64-install (1).exe', 'mingw-w64-install.exe', 'mingw-w64-v9.0.0', 'mingw-w64-v9.0.0.zip', 'minrects.cpp', 'Modern-Warfare-Setup.exe', 'MOHIT ASSIGN.docx', 'mohit electrical file 102103593.pdf', 'mohit hostel fee.pdf', 'MohitEDPtinkercad.docx', 'mohitmonga_102103593_Document.pdf', 'mohiy.pdf', 'mom hdfc.pdf', 'money-is-important.pdf', 'MSIAfterburnerSetup.zip', 'MSPCManagerSetup.exe', 'MST 2017.pdf', 'MST Question Paper (1).pdf', 'MST Question Paper (2).pdf', 'MST Question Paper.pdf', 'MST Solution (1).pdf', 'MST Solution.pdf', 'MST Syllabus-UCS310_DBMS.pdf', 'MST Syllabus.pdf', 'MST_solutions.docx', 'msys2-x86_64-20210604 (1).exe', 'msys2-x86_64-20210604.exe', 'msys2-x86_64-20211130.exe', 'Multiplication.pdf', 'Naval Garg_102153024.docx', 'Naval Garg_102153024_Assignment 3.docx', 'New folder', 'NicehashAutoDetect.exe', 'Nimish', 'Nimish2.docx', 'nimish2.pdf', 'NimishTinkercad.docx', 'NimishTinkercad.pdf', 'Ninite Chrome KLite Codecs Skype WinRAR Zoom Installer.exe', 'Nitish_Gaba_assignment8_102103310.pdf', 'nnn.png', 'node-v18.12.0-x64.msi', 'node-v19.1.0-x64.msi', 'Notice for Auxiliary Examiantions February 2023 (1).pdf', 'Notice for Auxiliary Examiantions February 2023.pdf', 'nvm-setup.exe', 'OD223039871640468000 (1).pdf', 'OD223039871640468000.pdf', 'OfficeSetup.exe', 'oFilmyZilla_-_Warning_(2021)_Punjabi_Full_Movie_480p_(oFilmyZilla.Vin).mp4', 'OPEN CV.docx', 'OperaSetup.exe', 'Oracle 9i SQL  (1).pdf', 'Oracle 9i SQL .pdf', 'os assign.docx', 'OS combined.pdf', 'papa pnb 3509.pdf', 'papa pnb 5960.pdf', 'parv.docx', 'PATL220000096580.pdf', 'PDFescape_Desktop_Installer.exe', 'PGOnline1657733716696.pdf', 'PGOnline1670664426429.pdf', 'PGOnline1670733153542.pdf', 'PGOnline1670738453408.pdf', 'plag remove os assignment mohit.docx', 'points.cpp', 'Polarisation -2nd.mp4', 'Polarisation Part1.mp4', 'Polarisation.pptx', 'Polymers tute sheet (1) (1).pptx', 'Polymers tute sheet (1).pptx', 'Postman-Agent-win64-0.4.7-Setup.exe', 'Postman-win64-Setup.exe', 'PPT 1 Basic Concepts (Mechanics).pdf', 'PPT 2 Free body diagram.pdf', 'PPT 3 Combination of members.pdf', 'PPT 4 trusses.pdf', 'PPT-11.pptx.pdf', 'Predicting-Heart-Diseases-main.zip', 'presentation-on-arrange-marriage.pdf', 'presentation-on-arrange-marriage.pptx', 'Print-out graph nitish.docx', 'Print-out graph nitish.pdf', 'printouts.docx', 'prob2.cpp', 'Projection of Points and Lines-20220315', 'Projection of Points and Lines-20220315.zip', 'python-3.10.6-amd64.exe', 'Q1 (1).txt', 'Q1.bak', 'Q1.dwg', 'Q1.txt', 'Q1_sol.pdf', 'Q2 (1).txt', 'Q2.txt', 'Q2_1 (1).txt', 'Q2_1.txt', 'Q3_a_b.pdf', 'Q3_c.pdf', 'Q4.pdf', 'Question02 (1).txt', 'Question02 (2).txt', 'Question02.txt', 'Q_2_solution.pdf', 'RachitChaurasia_102103592.pdf', 'Rectifier.docx.pdf', 'Recurrence Relation Introduction (1).pdf', 'Recurrence Relation Introduction.pdf', 'Recurrence_Relation_DAA_Lect2 (1).pdf', 'Recurrence_Relation_DAA_Lect2.pdf', 'Recurrence_Relation_DAA_Lect3.pdf', 'Recursive Tree Method_RR (1).pptx', 'Recursive Tree Method_RR.pptx', 'Relations_Till Warshalls Algo.pdf', 'Ridhi Aggarwal 1CO21 (1).pdf', 'Ridhi Aggarwal 1CO21.pdf', 'Rijul Bhatt_102103571.docx', 'RijulBhatt_102103571_Ass2.txt', 'Ring and Field.pdf', 'Rockstar-Games-Launcher.exe', 'rottenOrange.cpp', 'rrr.png', 'S Marik - Oscillation 3.mp4', 'ScreenRec_webinstall_all.exe', 'Screenshot 2022-12-11 175823.jpg', 'Screenshot 2023-01-03 234726.jpg', 'Screenshot 2023-02-01 151227.jpg', 'Screenshot 2023-02-01 151709.jpg', 'Screenshot 2023-02-15 214244.jpg', 'Screenshot 2023-02-15 215453.jpg', 'Screenshot 2023-02-22 151957.jpg', 'ScriptHookVDotNet.zip', 'ScriptHookV_1.0.2545.0.zip', 'ScriptHookV_1.0.2628.2', 'ScriptHookV_1.0.2628.2.zip', 'ScriptHookV_1.0.2699.0', 'ScriptHookV_1.0.2699.0.zip', 'ScriptHookV_1.0.2699.16 (1)', 'ScriptHookV_1.0.2699.16 (1).zip', 'ScriptHookV_1.0.2699.16.zip', 'sehajdeep_102103594_co21 (1).docx', 'sehajdeep_102103594_co21.docx', 'Sehajdeep_102103594_dbms2.docx', 'sem 4 hostel fee.pdf', 'sem1.pdf', 'sem2.pdf', 'sem3.pdf', 'SemesterfeesMessFees  nimish.pdf', 'Sem_4 Hostel Fee.pdf', 'Send ortho tut4 (1).dwg', 'Send ortho tut4.dwg', 'Set Theory Part A.pdf', 'Shah Ji (Full Video) Prem Dhillon Snappy Sukh Sanghera Gold Media Latest Punjabi Songs 2021_360P.mp4', 'Shiv Mandir Reel 1.MP4', 'SHREYA(edp project).docx', 'SlideSet_1.pptx', 'SlideSet_2.pptx', 'SlideSet_3 (1).pptx', 'SlideSet_3.pptx', 'SlideSet_4.pptx', 'SLIDESET_5.pptx', 'SLIDESET_6.pptx', 'SLIDESET_7.pptx', 'SLIDESET_8.pptx', 'SLIDESET_9.pptx', 'SMarik -Oscillation 1.mp4', 'SMarik 4.mp4', 'SMarik-Oscillation 2.mp4', 'SMarik10.mp4', 'SMarik11.mp4', 'SMarik12.mp4', 'SMarik5.mp4', 'SMarik6.mp4', 'SMarik7.mp4', 'SMarik8 (1).mp4', 'SMarik8.mp4', 'SMarik9.mp4', 'Solutions Tutorial Sheet-10 (Graph Theory).pdf', 'Solutions Tutorial Sheet-11 (Basic Logic) (1).pdf', 'Solutions Tutorial Sheet-11 (Basic Logic) (2).pdf', 'Solutions Tutorial Sheet-11 (Basic Logic).pdf', 'Solutions Tutorial Sheet-12 (Basic Logic) (1).pdf', 'Solutions Tutorial Sheet-12 (Basic Logic) (2).pdf', 'Solutions Tutorial Sheet-12 (Basic Logic).pdf', 'Solutions Tutorial Sheet-13 (Proof Techniques) (1).pdf', 'Solutions Tutorial Sheet-13 (Proof Techniques).pdf', 'Solutions Tutorial Sheet-14 (Group Theory).pdf', 'Solutions Tutorial Sheet-9 (Graph Theory).pdf', 'Solutions_Tutorial Sheet-1 (Set Theory) (1).pdf', 'Solutions_Tutorial Sheet-1 (Set Theory).pdf', 'Solutions_Tutorial Sheet-2 (Set Theory) (1).pdf', 'Solutions_Tutorial Sheet-2 (Set Theory).pdf', 'Solutions_Tutorial Sheet-3 (Functions) (1).pdf', 'Solutions_Tutorial Sheet-3 (Functions).pdf', 'Solutions_Tutorial Sheet-4 (Functions) (1).pdf', 'Solutions_Tutorial Sheet-4 (Functions) (2).pdf', 'Solutions_Tutorial Sheet-4 (Functions) (3).pdf', 'Solutions_Tutorial Sheet-4 (Functions).pdf', 'Solutions_Tutorial Sheet-5 (Relations) (1).pdf', 'Solutions_Tutorial Sheet-5 (Relations).pdf', 'Solutions_Tutorial Sheet-6 (Relations) (1).pdf', 'Solutions_Tutorial Sheet-6 (Relations).pdf', 'Solutions_Tutorial Sheet-7 (Relations).pdf', 'Solutions_Tutorial Sheet-8 (Relations).pdf', 'SOP Lakshya Gur (1).docx', 'SOP Lakshya Gur.docx', 'source code', 'SpotifySetup (1).exe', 'SpotifySetup.exe', 'sss.png', 'SteamSetup.exe', 'Submission_details.docx', 'syllabus', 'Syllabus_UEE001.docx', 'Symmetric Group.pdf', 'Telegram Desktop', 'template_uta024_2023.docx', 'test', 'testing', 'the-coke-scandal.pdf', 'the-coke-scandal.pptx', 'TIME TABLE(CO21).pdf', 'TINKER2pdf.pdf', 'Top Notch Gabru (Full Video) Vicky I Proof Kaptaan Latest Punjabi Songs 2021 Rehaan Records_360P.mp4', 'TT6A9855.JPG', 'Tut 1-5 (1).pdf', 'Tut 1-5.pdf', 'tut 2 part b.dwg', 'tut 3.pdf', 'tut 4.dwg', 'tut 5.pdf', 'Tut 7 Solutions.pptx', 'tut-4.pdf', 'TUT2.dwg', 'Tute 6 Q 6.dwg', 'Tute sheet 6.pdf', 'Tute sheet 7 (1).pdf', 'Tute sheet 7.pdf', 'Tute Sheet_5_UMA010.pdf', 'Tute Sheet_6_UMA010.pdf', 'Tutorial Sheet-10 (Graphs).pdf', 'Tutorial Sheet-11 (Basic Logic) (1).pdf', 'Tutorial Sheet-11 (Basic Logic).pdf', 'Tutorial sheet-12 (Basic Logic) (1).pdf', 'Tutorial sheet-12 (Basic Logic) (2).pdf', 'Tutorial sheet-12 (Basic Logic) (3).pdf', 'Tutorial sheet-12 (Basic Logic) (4).pdf', 'Tutorial sheet-12 (Basic Logic).pdf', 'Tutorial Sheet-13 (Proof Techniques) (1).pdf', 'Tutorial Sheet-13 (Proof Techniques) (2).pdf', 'Tutorial Sheet-13 (Proof Techniques) (3).pdf', 'Tutorial Sheet-13 (Proof Techniques) (4).pdf', 'Tutorial Sheet-13 (Proof Techniques).pdf', 'Tutorial Sheet-14 (Group Theory) (1).pdf', 'Tutorial Sheet-14 (Group Theory) (2).pdf', 'Tutorial Sheet-14 (Group Theory).pdf', 'Tutorial Sheet-3 (Functions).pdf', 'Tutorial Sheet-4 (Functions) (1).pdf', 'Tutorial Sheet-4 (Functions).pdf', 'Tutorial Sheet-5 (Relations) (1).pdf', 'Tutorial Sheet-5 (Relations).pdf', 'Tutorial Sheet-6 (Relations).pdf', 'Tutorial sheet-9 (Graphs).pdf', 'Tutorial-01 (1).docx', 'Tutorial-01.docx', 'Tutorials 5-9 solutions.pdf', 'Tutorials-20211208T084416Z-001 (1).zip', 'Tutorials-20211208T084416Z-001 (2).zip', 'Tutorials-20211208T084416Z-001.zip', 'tut_4.dwg', 'UCB008_Lab_Manual - LMS.pdf', 'UCS301 (1).pdf', 'UCS301 (2).pdf', 'UCS301 (3).pdf', 'UCS301 (4).pdf', 'UCS301 - Online MST Lab Evaluation - Instructions (1).pdf', 'UCS301 - Online MST Lab Evaluation - Instructions (2).pdf', 'UCS301 - Online MST Lab Evaluation - Instructions (3).pdf', 'UCS301 - Online MST Lab Evaluation - Instructions.pdf', 'UCS301.pdf', 'UCS303 (1).pdf', 'UCS303 (2).PDF', 'UCS303 - Assignment Submission (1).pdf', 'UCS303 Assignment Template (1).docx', 'UCS303 Assignment Template.docx', 'UCS303.pdf', 'UCS303_MST 2019 (with Solutions Final).pdf', 'UCS310 (1).PDF', 'UCS310 (2).PDF', 'UCS310.PDF', 'UCS313.PDF', 'UCS405 (1).PDF', 'UCS405 (2).PDF', 'UCS405 (3).PDF', 'UCS405 (4).PDF', 'UCS405.PDF', 'UCS410.PDF', 'UCS411.PDF', 'UCS415.PDF', 'UCS507 (1).PDF', 'UCS507 (2).PDF', 'UCS507 (3).PDF', 'UCS507 (4).PDF', 'UCS507 (5).pdf', 'UCS507 (6).pdf', 'UCS507 (7).PDF', 'UCS507 (8).PDF', 'UCS507.pdf', 'UCS510.pdf', 'UEC001 (1).pdf', 'UEC001 (2).PDF', 'UEC001-VNT-23-30.pdf', 'UEC001.PDF', 'UES012 (1).PDF', 'UES012 (2).PDF', 'UES012 (3).PDF', 'UES012 (4).PDF', 'UES012 Tut solutions.pdf', 'UES012-UES032 (1).PDF', 'UES012-UES032.PDF', 'UES012.pdf', 'UG FIRST YEAR TIME TABLE 2021-22 (Semester - 1).xlsx', 'UG First Year Timetable Jan-June 2022 (1).xlsx', 'UG First Year Timetable Jan-June 2022 co15_22.xlsx', 'UG First Year Timetable Jan-June 2022.xlsx', 'UG-IIa.xls', 'UMA004 (1).pdf', 'UMA004 (2).PDF', 'UMA004 (3).PDF', 'UMA004 (4).PDF', 'UMA004.PDF', 'UMA004_Lecture Notes_15_New.pdf', 'UMA004_Lecture Notes_16 & 17_New.pdf', 'UMA011 (1).pdf', 'UMA011 (2).pdf', 'UMA011 (3).PDF', 'UMA011 (4).PDF', 'UMA011 (5).PDF', 'UMA011.PDF', 'UNIT1_L1.pdf', 'UNIT1_L10.pdf', 'UNIT1_L2.pdf', 'UNIT1_L3.pdf', 'UNIT1_L4.pdf', 'UNIT1_L5.pdf', 'UNIT1_L6.pdf', 'UNIT1_L7.pdf', 'UNIT1_L8.pdf', 'UNIT1_L9.pdf', 'UNIT2_L1.pdf', 'UNIT2_L2.pdf', 'UNIT2_L3.pdf', 'UNIT2_L4,5.pdf', 'UnityDownloadAssistant-2022.1.14f1.exe', 'UnityHubSetup.exe', 'unnamed.png', \"UPH004 - Laser1_ Introduction, Einstein's coefficients.mp4\", 'UPH004 - Laser2_Population inversion , Metastable state.mp4', 'UTA018 (1).PDF', 'UTA018 (2).PDF', 'UTA018.PDF', 'UTA026 (1).PDF', 'UTA026 (2).PDF', 'UTA026 (3).PDF', 'UTA026 (4).PDF', 'UTA026 (5).PDF', 'UTA026.PDF', 'uTorrent Web Tutorial Video', 'uTorrent.exe', 'utweb_installer.exe', 'V. Raghavan - Materials Science and Engineering.pdf', 'vanshikaa files', 'VANSHIKAMAHAJAN_102153022.pdf', 'VANSHIKA_102153022 (1).docx', 'VANSHIKA_102153022(DBMS assignment).pdf', 'VANSHIKA_102153022.docx', 'VANSHIKA_102153022_ASSIGNMENT 3.pdf', 'vel.xlsx', 'VirtualBox-6.1-6.1.36_152435_el9-1.x86_64 (1).rpm', 'VirtualBox-6.1-6.1.36_152435_el9-1.x86_64.rpm', 'VirtualBox-6.1.28-147628-Win.exe', 'VirtualBox-6.1.30-148432-Win.exe', 'virtualbox-6.1_6.1.36-152435_Ubuntu_jammy_amd64.deb', 'vlc-3.0.16-win64.exe', 'VSCodeUserSetup-x64-1.59.1.exe', 'VSCodeUserSetup-x64-1.63.2 (1).exe', 'VSCodeUserSetup-x64-1.63.2 (2).exe', 'VSCodeUserSetup-x64-1.63.2 (3).exe', 'VSCodeUserSetup-x64-1.63.2.exe', 'VSCodeUserSetup-x64-1.65.2 (1).exe', 'VSCodeUserSetup-x64-1.65.2 (2).exe', 'VSCodeUserSetup-x64-1.65.2.exe', 'vuforia-sdk-uwp-10-9-3', 'vuforia-sdk-uwp-10-9-3.zip', 'Water Jug.py', 'Water.pdf', 'Waves_Oscillations.pdf', 'WhatsApp Image 2021-08-27 at 10.45.10 AM (1).jpeg', 'WhatsApp Image 2021-08-27 at 10.45.10 AM (2).jpeg', 'WhatsApp Image 2021-08-27 at 10.45.10 AM (3).jpeg', 'WhatsApp Image 2021-08-27 at 10.45.10 AM.jpeg', 'WhatsApp Image 2021-08-27 at 10.56.38 AM.jpeg', 'WhatsApp Image 2021-11-21 at 10.26.32 PM.jpeg', 'WhatsApp Image 2021-11-21 at 10.26.33 PM (1).jpeg', 'WhatsApp Image 2021-11-21 at 10.26.33 PM (2).jpeg', 'WhatsApp Image 2021-11-21 at 10.26.33 PM.jpeg', 'WhatsApp Image 2022-04-03 at 10.31.00 PM.jpeg', 'WhatsApp Image 2022-04-18 at 12.59.08 PM (1).jpeg', 'WhatsApp Image 2022-04-18 at 12.59.08 PM (2).jpeg', 'WhatsApp Image 2022-04-18 at 12.59.08 PM (3).jpeg', 'WhatsApp Image 2022-04-18 at 12.59.08 PM (4).jpeg', 'WhatsApp Image 2022-04-18 at 12.59.08 PM.jpeg', 'WhatsApp Image 2022-10-11 at 10.11.21 AM.jpeg', 'WhatsApp Image 2022-10-11 at 10.11.22 AM (1).jpeg', 'WhatsApp Image 2022-10-11 at 10.11.22 AM (2).jpeg', 'WhatsApp Image 2022-10-11 at 10.11.22 AM.jpeg', 'WhatsApp Image 2022-11-02 at 11.10.48 PM (1).jpeg', 'WhatsApp Image 2022-11-02 at 11.10.48 PM.jpeg', 'WhatsApp Image 2022-11-02 at 11.10.49 PM.jpeg', 'WhatsApp Image 2022-11-02 at 11.14.14 PM (1).jpeg', 'WhatsApp Image 2022-11-02 at 11.14.14 PM.jpeg', 'WhatsApp Image 2022-11-02 at 11.14.15 PM (1).jpeg', 'WhatsApp Image 2022-11-02 at 11.14.15 PM.jpeg', 'WhatsApp Image 2022-12-11 at 1.34.25 PM.jpeg', 'WhatsApp Image 2023-02-02 at 4.26.07 PM.jpeg', 'WhatsApp Image 2023-02-10 at 12.25.58 PM.jpeg', 'WhatsApp Video 2022-03-04 at 2.31.09 PM.mp4', 'WhatsAppSetup.exe', 'WiFi_MediaTek_v3.2.0.192.zip', 'windows', 'windows.zip', 'wps_office_inst.exe', 'xinput1_3', 'xinput1_3.zip', 'Yeh Jawaani Hai Deewani 2013 1080p BluRay DD 5.1 x264 ESub [MW].mkv', 'Your Money Matters (1).pptx', 'Your Money Matters (2).pptx', 'Your Money Matters.pptx', 'Zephyrus Duo 15 x MDJ_top screen_Cyber edit.jpg', 'Zoom Meeting 40-Minutes  - 26 June 2022.mp4', 'Zoom_cm_fo42mnktZ9vvrZo4_mKlbJYqAMxWwDShrW+3YxUNISo972WudkX6to@Z5SRmY4SJQaM-7Va_k7329e7e94e6e39b5_.exe', 'Zulf - Nirvair Pannu (Official Video) Jassi X - Latest Punjabi Song 2022 - Juke Dock.mp4', '_temp_matlab_R2022a_win64', 'नारी शिक्षा banner.docx']\n"
     ]
    }
   ],
   "source": [
    "import numpy as np\n",
    "import pandas as pd\n",
    "import matplotlib.pyplot as plt\n",
    "import seaborn as sns\n",
    "\n",
    "%matplotlib inline\n",
    "\n",
    "import os\n",
    "print(os.listdir())\n",
    "\n",
    "import warnings\n",
    "warnings.filterwarnings('ignore')"
   ]
  },
  {
   "cell_type": "markdown",
   "metadata": {
    "_uuid": "44e71221837f6fa60edc2c83b7492ddb019cc1cd"
   },
   "source": [
    "## II. Importing and understanding our dataset "
   ]
  },
  {
   "cell_type": "code",
   "execution_count": 2,
   "metadata": {
    "_uuid": "2a1a1dae64ae3c934849b2b918bc7d68cd59e3f6"
   },
   "outputs": [],
   "source": [
    "dataset = pd.read_csv(\"heart.csv\")"
   ]
  },
  {
   "cell_type": "markdown",
   "metadata": {
    "_uuid": "481fa1d160a3256ef2470535bfb0574820fbaabd"
   },
   "source": [
    "#### Verifying it as a 'dataframe' object in pandas"
   ]
  },
  {
   "cell_type": "code",
   "execution_count": 3,
   "metadata": {
    "_uuid": "86353d54a331dbf55a63874402cf13e2a72c3750"
   },
   "outputs": [
    {
     "data": {
      "text/plain": [
       "pandas.core.frame.DataFrame"
      ]
     },
     "execution_count": 3,
     "metadata": {},
     "output_type": "execute_result"
    }
   ],
   "source": [
    "type(dataset)"
   ]
  },
  {
   "cell_type": "markdown",
   "metadata": {
    "_uuid": "44649a50ce58d2e10a032f7d0e7ecf435e932481"
   },
   "source": [
    "#### Shape of dataset"
   ]
  },
  {
   "cell_type": "code",
   "execution_count": 4,
   "metadata": {
    "_uuid": "0a2396061d262bee451e61dd51be84d0bd1ac9d0"
   },
   "outputs": [
    {
     "data": {
      "text/plain": [
       "(303, 14)"
      ]
     },
     "execution_count": 4,
     "metadata": {},
     "output_type": "execute_result"
    }
   ],
   "source": [
    "dataset.shape"
   ]
  },
  {
   "cell_type": "markdown",
   "metadata": {
    "_uuid": "3e1de0c39fc28f086a5e8377cc5fbdbf91d377b3"
   },
   "source": [
    "#### Printing out a few columns"
   ]
  },
  {
   "cell_type": "code",
   "execution_count": 5,
   "metadata": {
    "_uuid": "87ebcc578e5959fe9a9c9a538c73122183454459"
   },
   "outputs": [
    {
     "data": {
      "text/html": [
       "<div>\n",
       "<style scoped>\n",
       "    .dataframe tbody tr th:only-of-type {\n",
       "        vertical-align: middle;\n",
       "    }\n",
       "\n",
       "    .dataframe tbody tr th {\n",
       "        vertical-align: top;\n",
       "    }\n",
       "\n",
       "    .dataframe thead th {\n",
       "        text-align: right;\n",
       "    }\n",
       "</style>\n",
       "<table border=\"1\" class=\"dataframe\">\n",
       "  <thead>\n",
       "    <tr style=\"text-align: right;\">\n",
       "      <th></th>\n",
       "      <th>age</th>\n",
       "      <th>sex</th>\n",
       "      <th>cp</th>\n",
       "      <th>trestbps</th>\n",
       "      <th>chol</th>\n",
       "      <th>fbs</th>\n",
       "      <th>restecg</th>\n",
       "      <th>thalach</th>\n",
       "      <th>exang</th>\n",
       "      <th>oldpeak</th>\n",
       "      <th>slope</th>\n",
       "      <th>ca</th>\n",
       "      <th>thal</th>\n",
       "      <th>target</th>\n",
       "    </tr>\n",
       "  </thead>\n",
       "  <tbody>\n",
       "    <tr>\n",
       "      <th>0</th>\n",
       "      <td>63</td>\n",
       "      <td>1</td>\n",
       "      <td>3</td>\n",
       "      <td>145</td>\n",
       "      <td>233</td>\n",
       "      <td>1</td>\n",
       "      <td>0</td>\n",
       "      <td>150</td>\n",
       "      <td>0</td>\n",
       "      <td>2.3</td>\n",
       "      <td>0</td>\n",
       "      <td>0</td>\n",
       "      <td>1</td>\n",
       "      <td>1</td>\n",
       "    </tr>\n",
       "    <tr>\n",
       "      <th>1</th>\n",
       "      <td>37</td>\n",
       "      <td>1</td>\n",
       "      <td>2</td>\n",
       "      <td>130</td>\n",
       "      <td>250</td>\n",
       "      <td>0</td>\n",
       "      <td>1</td>\n",
       "      <td>187</td>\n",
       "      <td>0</td>\n",
       "      <td>3.5</td>\n",
       "      <td>0</td>\n",
       "      <td>0</td>\n",
       "      <td>2</td>\n",
       "      <td>1</td>\n",
       "    </tr>\n",
       "    <tr>\n",
       "      <th>2</th>\n",
       "      <td>41</td>\n",
       "      <td>0</td>\n",
       "      <td>1</td>\n",
       "      <td>130</td>\n",
       "      <td>204</td>\n",
       "      <td>0</td>\n",
       "      <td>0</td>\n",
       "      <td>172</td>\n",
       "      <td>0</td>\n",
       "      <td>1.4</td>\n",
       "      <td>2</td>\n",
       "      <td>0</td>\n",
       "      <td>2</td>\n",
       "      <td>1</td>\n",
       "    </tr>\n",
       "    <tr>\n",
       "      <th>3</th>\n",
       "      <td>56</td>\n",
       "      <td>1</td>\n",
       "      <td>1</td>\n",
       "      <td>120</td>\n",
       "      <td>236</td>\n",
       "      <td>0</td>\n",
       "      <td>1</td>\n",
       "      <td>178</td>\n",
       "      <td>0</td>\n",
       "      <td>0.8</td>\n",
       "      <td>2</td>\n",
       "      <td>0</td>\n",
       "      <td>2</td>\n",
       "      <td>1</td>\n",
       "    </tr>\n",
       "    <tr>\n",
       "      <th>4</th>\n",
       "      <td>57</td>\n",
       "      <td>0</td>\n",
       "      <td>0</td>\n",
       "      <td>120</td>\n",
       "      <td>354</td>\n",
       "      <td>0</td>\n",
       "      <td>1</td>\n",
       "      <td>163</td>\n",
       "      <td>1</td>\n",
       "      <td>0.6</td>\n",
       "      <td>2</td>\n",
       "      <td>0</td>\n",
       "      <td>2</td>\n",
       "      <td>1</td>\n",
       "    </tr>\n",
       "  </tbody>\n",
       "</table>\n",
       "</div>"
      ],
      "text/plain": [
       "   age  sex  cp  trestbps  chol  fbs  restecg  thalach  exang  oldpeak  slope  \\\n",
       "0   63    1   3       145   233    1        0      150      0      2.3      0   \n",
       "1   37    1   2       130   250    0        1      187      0      3.5      0   \n",
       "2   41    0   1       130   204    0        0      172      0      1.4      2   \n",
       "3   56    1   1       120   236    0        1      178      0      0.8      2   \n",
       "4   57    0   0       120   354    0        1      163      1      0.6      2   \n",
       "\n",
       "   ca  thal  target  \n",
       "0   0     1       1  \n",
       "1   0     2       1  \n",
       "2   0     2       1  \n",
       "3   0     2       1  \n",
       "4   0     2       1  "
      ]
     },
     "execution_count": 5,
     "metadata": {},
     "output_type": "execute_result"
    }
   ],
   "source": [
    "dataset.head(5)"
   ]
  },
  {
   "cell_type": "code",
   "execution_count": 6,
   "metadata": {
    "_uuid": "5132eb43114bf99d5f857f459d0c9d2faffc9644"
   },
   "outputs": [
    {
     "data": {
      "text/html": [
       "<div>\n",
       "<style scoped>\n",
       "    .dataframe tbody tr th:only-of-type {\n",
       "        vertical-align: middle;\n",
       "    }\n",
       "\n",
       "    .dataframe tbody tr th {\n",
       "        vertical-align: top;\n",
       "    }\n",
       "\n",
       "    .dataframe thead th {\n",
       "        text-align: right;\n",
       "    }\n",
       "</style>\n",
       "<table border=\"1\" class=\"dataframe\">\n",
       "  <thead>\n",
       "    <tr style=\"text-align: right;\">\n",
       "      <th></th>\n",
       "      <th>age</th>\n",
       "      <th>sex</th>\n",
       "      <th>cp</th>\n",
       "      <th>trestbps</th>\n",
       "      <th>chol</th>\n",
       "      <th>fbs</th>\n",
       "      <th>restecg</th>\n",
       "      <th>thalach</th>\n",
       "      <th>exang</th>\n",
       "      <th>oldpeak</th>\n",
       "      <th>slope</th>\n",
       "      <th>ca</th>\n",
       "      <th>thal</th>\n",
       "      <th>target</th>\n",
       "    </tr>\n",
       "  </thead>\n",
       "  <tbody>\n",
       "    <tr>\n",
       "      <th>71</th>\n",
       "      <td>51</td>\n",
       "      <td>1</td>\n",
       "      <td>2</td>\n",
       "      <td>94</td>\n",
       "      <td>227</td>\n",
       "      <td>0</td>\n",
       "      <td>1</td>\n",
       "      <td>154</td>\n",
       "      <td>1</td>\n",
       "      <td>0.0</td>\n",
       "      <td>2</td>\n",
       "      <td>1</td>\n",
       "      <td>3</td>\n",
       "      <td>1</td>\n",
       "    </tr>\n",
       "    <tr>\n",
       "      <th>108</th>\n",
       "      <td>50</td>\n",
       "      <td>0</td>\n",
       "      <td>1</td>\n",
       "      <td>120</td>\n",
       "      <td>244</td>\n",
       "      <td>0</td>\n",
       "      <td>1</td>\n",
       "      <td>162</td>\n",
       "      <td>0</td>\n",
       "      <td>1.1</td>\n",
       "      <td>2</td>\n",
       "      <td>0</td>\n",
       "      <td>2</td>\n",
       "      <td>1</td>\n",
       "    </tr>\n",
       "    <tr>\n",
       "      <th>111</th>\n",
       "      <td>57</td>\n",
       "      <td>1</td>\n",
       "      <td>2</td>\n",
       "      <td>150</td>\n",
       "      <td>126</td>\n",
       "      <td>1</td>\n",
       "      <td>1</td>\n",
       "      <td>173</td>\n",
       "      <td>0</td>\n",
       "      <td>0.2</td>\n",
       "      <td>2</td>\n",
       "      <td>1</td>\n",
       "      <td>3</td>\n",
       "      <td>1</td>\n",
       "    </tr>\n",
       "    <tr>\n",
       "      <th>281</th>\n",
       "      <td>52</td>\n",
       "      <td>1</td>\n",
       "      <td>0</td>\n",
       "      <td>128</td>\n",
       "      <td>204</td>\n",
       "      <td>1</td>\n",
       "      <td>1</td>\n",
       "      <td>156</td>\n",
       "      <td>1</td>\n",
       "      <td>1.0</td>\n",
       "      <td>1</td>\n",
       "      <td>0</td>\n",
       "      <td>0</td>\n",
       "      <td>0</td>\n",
       "    </tr>\n",
       "    <tr>\n",
       "      <th>26</th>\n",
       "      <td>59</td>\n",
       "      <td>1</td>\n",
       "      <td>2</td>\n",
       "      <td>150</td>\n",
       "      <td>212</td>\n",
       "      <td>1</td>\n",
       "      <td>1</td>\n",
       "      <td>157</td>\n",
       "      <td>0</td>\n",
       "      <td>1.6</td>\n",
       "      <td>2</td>\n",
       "      <td>0</td>\n",
       "      <td>2</td>\n",
       "      <td>1</td>\n",
       "    </tr>\n",
       "  </tbody>\n",
       "</table>\n",
       "</div>"
      ],
      "text/plain": [
       "     age  sex  cp  trestbps  chol  fbs  restecg  thalach  exang  oldpeak  \\\n",
       "71    51    1   2        94   227    0        1      154      1      0.0   \n",
       "108   50    0   1       120   244    0        1      162      0      1.1   \n",
       "111   57    1   2       150   126    1        1      173      0      0.2   \n",
       "281   52    1   0       128   204    1        1      156      1      1.0   \n",
       "26    59    1   2       150   212    1        1      157      0      1.6   \n",
       "\n",
       "     slope  ca  thal  target  \n",
       "71       2   1     3       1  \n",
       "108      2   0     2       1  \n",
       "111      2   1     3       1  \n",
       "281      1   0     0       0  \n",
       "26       2   0     2       1  "
      ]
     },
     "execution_count": 6,
     "metadata": {},
     "output_type": "execute_result"
    }
   ],
   "source": [
    "dataset.sample(5)"
   ]
  },
  {
   "cell_type": "markdown",
   "metadata": {
    "_uuid": "1113236bec2848d33c5bfe088ff0d03246b8b7ce"
   },
   "source": [
    "#### Description"
   ]
  },
  {
   "cell_type": "code",
   "execution_count": 7,
   "metadata": {
    "_uuid": "c31619815cb0dae5586985671fdc21110b39a821"
   },
   "outputs": [
    {
     "data": {
      "text/html": [
       "<div>\n",
       "<style scoped>\n",
       "    .dataframe tbody tr th:only-of-type {\n",
       "        vertical-align: middle;\n",
       "    }\n",
       "\n",
       "    .dataframe tbody tr th {\n",
       "        vertical-align: top;\n",
       "    }\n",
       "\n",
       "    .dataframe thead th {\n",
       "        text-align: right;\n",
       "    }\n",
       "</style>\n",
       "<table border=\"1\" class=\"dataframe\">\n",
       "  <thead>\n",
       "    <tr style=\"text-align: right;\">\n",
       "      <th></th>\n",
       "      <th>age</th>\n",
       "      <th>sex</th>\n",
       "      <th>cp</th>\n",
       "      <th>trestbps</th>\n",
       "      <th>chol</th>\n",
       "      <th>fbs</th>\n",
       "      <th>restecg</th>\n",
       "      <th>thalach</th>\n",
       "      <th>exang</th>\n",
       "      <th>oldpeak</th>\n",
       "      <th>slope</th>\n",
       "      <th>ca</th>\n",
       "      <th>thal</th>\n",
       "      <th>target</th>\n",
       "    </tr>\n",
       "  </thead>\n",
       "  <tbody>\n",
       "    <tr>\n",
       "      <th>count</th>\n",
       "      <td>303.000000</td>\n",
       "      <td>303.000000</td>\n",
       "      <td>303.000000</td>\n",
       "      <td>303.000000</td>\n",
       "      <td>303.000000</td>\n",
       "      <td>303.000000</td>\n",
       "      <td>303.000000</td>\n",
       "      <td>303.000000</td>\n",
       "      <td>303.000000</td>\n",
       "      <td>303.000000</td>\n",
       "      <td>303.000000</td>\n",
       "      <td>303.000000</td>\n",
       "      <td>303.000000</td>\n",
       "      <td>303.000000</td>\n",
       "    </tr>\n",
       "    <tr>\n",
       "      <th>mean</th>\n",
       "      <td>54.366337</td>\n",
       "      <td>0.683168</td>\n",
       "      <td>0.966997</td>\n",
       "      <td>131.623762</td>\n",
       "      <td>246.264026</td>\n",
       "      <td>0.148515</td>\n",
       "      <td>0.528053</td>\n",
       "      <td>149.646865</td>\n",
       "      <td>0.326733</td>\n",
       "      <td>1.039604</td>\n",
       "      <td>1.399340</td>\n",
       "      <td>0.729373</td>\n",
       "      <td>2.313531</td>\n",
       "      <td>0.544554</td>\n",
       "    </tr>\n",
       "    <tr>\n",
       "      <th>std</th>\n",
       "      <td>9.082101</td>\n",
       "      <td>0.466011</td>\n",
       "      <td>1.032052</td>\n",
       "      <td>17.538143</td>\n",
       "      <td>51.830751</td>\n",
       "      <td>0.356198</td>\n",
       "      <td>0.525860</td>\n",
       "      <td>22.905161</td>\n",
       "      <td>0.469794</td>\n",
       "      <td>1.161075</td>\n",
       "      <td>0.616226</td>\n",
       "      <td>1.022606</td>\n",
       "      <td>0.612277</td>\n",
       "      <td>0.498835</td>\n",
       "    </tr>\n",
       "    <tr>\n",
       "      <th>min</th>\n",
       "      <td>29.000000</td>\n",
       "      <td>0.000000</td>\n",
       "      <td>0.000000</td>\n",
       "      <td>94.000000</td>\n",
       "      <td>126.000000</td>\n",
       "      <td>0.000000</td>\n",
       "      <td>0.000000</td>\n",
       "      <td>71.000000</td>\n",
       "      <td>0.000000</td>\n",
       "      <td>0.000000</td>\n",
       "      <td>0.000000</td>\n",
       "      <td>0.000000</td>\n",
       "      <td>0.000000</td>\n",
       "      <td>0.000000</td>\n",
       "    </tr>\n",
       "    <tr>\n",
       "      <th>25%</th>\n",
       "      <td>47.500000</td>\n",
       "      <td>0.000000</td>\n",
       "      <td>0.000000</td>\n",
       "      <td>120.000000</td>\n",
       "      <td>211.000000</td>\n",
       "      <td>0.000000</td>\n",
       "      <td>0.000000</td>\n",
       "      <td>133.500000</td>\n",
       "      <td>0.000000</td>\n",
       "      <td>0.000000</td>\n",
       "      <td>1.000000</td>\n",
       "      <td>0.000000</td>\n",
       "      <td>2.000000</td>\n",
       "      <td>0.000000</td>\n",
       "    </tr>\n",
       "    <tr>\n",
       "      <th>50%</th>\n",
       "      <td>55.000000</td>\n",
       "      <td>1.000000</td>\n",
       "      <td>1.000000</td>\n",
       "      <td>130.000000</td>\n",
       "      <td>240.000000</td>\n",
       "      <td>0.000000</td>\n",
       "      <td>1.000000</td>\n",
       "      <td>153.000000</td>\n",
       "      <td>0.000000</td>\n",
       "      <td>0.800000</td>\n",
       "      <td>1.000000</td>\n",
       "      <td>0.000000</td>\n",
       "      <td>2.000000</td>\n",
       "      <td>1.000000</td>\n",
       "    </tr>\n",
       "    <tr>\n",
       "      <th>75%</th>\n",
       "      <td>61.000000</td>\n",
       "      <td>1.000000</td>\n",
       "      <td>2.000000</td>\n",
       "      <td>140.000000</td>\n",
       "      <td>274.500000</td>\n",
       "      <td>0.000000</td>\n",
       "      <td>1.000000</td>\n",
       "      <td>166.000000</td>\n",
       "      <td>1.000000</td>\n",
       "      <td>1.600000</td>\n",
       "      <td>2.000000</td>\n",
       "      <td>1.000000</td>\n",
       "      <td>3.000000</td>\n",
       "      <td>1.000000</td>\n",
       "    </tr>\n",
       "    <tr>\n",
       "      <th>max</th>\n",
       "      <td>77.000000</td>\n",
       "      <td>1.000000</td>\n",
       "      <td>3.000000</td>\n",
       "      <td>200.000000</td>\n",
       "      <td>564.000000</td>\n",
       "      <td>1.000000</td>\n",
       "      <td>2.000000</td>\n",
       "      <td>202.000000</td>\n",
       "      <td>1.000000</td>\n",
       "      <td>6.200000</td>\n",
       "      <td>2.000000</td>\n",
       "      <td>4.000000</td>\n",
       "      <td>3.000000</td>\n",
       "      <td>1.000000</td>\n",
       "    </tr>\n",
       "  </tbody>\n",
       "</table>\n",
       "</div>"
      ],
      "text/plain": [
       "              age         sex          cp    trestbps        chol         fbs  \\\n",
       "count  303.000000  303.000000  303.000000  303.000000  303.000000  303.000000   \n",
       "mean    54.366337    0.683168    0.966997  131.623762  246.264026    0.148515   \n",
       "std      9.082101    0.466011    1.032052   17.538143   51.830751    0.356198   \n",
       "min     29.000000    0.000000    0.000000   94.000000  126.000000    0.000000   \n",
       "25%     47.500000    0.000000    0.000000  120.000000  211.000000    0.000000   \n",
       "50%     55.000000    1.000000    1.000000  130.000000  240.000000    0.000000   \n",
       "75%     61.000000    1.000000    2.000000  140.000000  274.500000    0.000000   \n",
       "max     77.000000    1.000000    3.000000  200.000000  564.000000    1.000000   \n",
       "\n",
       "          restecg     thalach       exang     oldpeak       slope          ca  \\\n",
       "count  303.000000  303.000000  303.000000  303.000000  303.000000  303.000000   \n",
       "mean     0.528053  149.646865    0.326733    1.039604    1.399340    0.729373   \n",
       "std      0.525860   22.905161    0.469794    1.161075    0.616226    1.022606   \n",
       "min      0.000000   71.000000    0.000000    0.000000    0.000000    0.000000   \n",
       "25%      0.000000  133.500000    0.000000    0.000000    1.000000    0.000000   \n",
       "50%      1.000000  153.000000    0.000000    0.800000    1.000000    0.000000   \n",
       "75%      1.000000  166.000000    1.000000    1.600000    2.000000    1.000000   \n",
       "max      2.000000  202.000000    1.000000    6.200000    2.000000    4.000000   \n",
       "\n",
       "             thal      target  \n",
       "count  303.000000  303.000000  \n",
       "mean     2.313531    0.544554  \n",
       "std      0.612277    0.498835  \n",
       "min      0.000000    0.000000  \n",
       "25%      2.000000    0.000000  \n",
       "50%      2.000000    1.000000  \n",
       "75%      3.000000    1.000000  \n",
       "max      3.000000    1.000000  "
      ]
     },
     "execution_count": 7,
     "metadata": {},
     "output_type": "execute_result"
    }
   ],
   "source": [
    "dataset.describe()"
   ]
  },
  {
   "cell_type": "code",
   "execution_count": 8,
   "metadata": {
    "_uuid": "718b82039841c137ab7e08a6e79e264643134642"
   },
   "outputs": [
    {
     "name": "stdout",
     "output_type": "stream",
     "text": [
      "<class 'pandas.core.frame.DataFrame'>\n",
      "RangeIndex: 303 entries, 0 to 302\n",
      "Data columns (total 14 columns):\n",
      " #   Column    Non-Null Count  Dtype  \n",
      "---  ------    --------------  -----  \n",
      " 0   age       303 non-null    int64  \n",
      " 1   sex       303 non-null    int64  \n",
      " 2   cp        303 non-null    int64  \n",
      " 3   trestbps  303 non-null    int64  \n",
      " 4   chol      303 non-null    int64  \n",
      " 5   fbs       303 non-null    int64  \n",
      " 6   restecg   303 non-null    int64  \n",
      " 7   thalach   303 non-null    int64  \n",
      " 8   exang     303 non-null    int64  \n",
      " 9   oldpeak   303 non-null    float64\n",
      " 10  slope     303 non-null    int64  \n",
      " 11  ca        303 non-null    int64  \n",
      " 12  thal      303 non-null    int64  \n",
      " 13  target    303 non-null    int64  \n",
      "dtypes: float64(1), int64(13)\n",
      "memory usage: 33.3 KB\n"
     ]
    }
   ],
   "source": [
    "dataset.info()"
   ]
  },
  {
   "cell_type": "code",
   "execution_count": 9,
   "metadata": {
    "_uuid": "99d7182ca186d37f63b1fc433fe74ad5e2bc7d2f"
   },
   "outputs": [],
   "source": [
    "###Luckily, we have no missing values"
   ]
  },
  {
   "cell_type": "markdown",
   "metadata": {
    "_uuid": "6a970312b67b588610a8579ecc2ba4bac0fcee04"
   },
   "source": [
    "#### Analysing the 'target' variable"
   ]
  },
  {
   "cell_type": "code",
   "execution_count": 10,
   "metadata": {
    "_uuid": "b883243919bd382193ed15e2a90f9b522bf6f1f7"
   },
   "outputs": [
    {
     "data": {
      "text/plain": [
       "count    303.000000\n",
       "mean       0.544554\n",
       "std        0.498835\n",
       "min        0.000000\n",
       "25%        0.000000\n",
       "50%        1.000000\n",
       "75%        1.000000\n",
       "max        1.000000\n",
       "Name: target, dtype: float64"
      ]
     },
     "execution_count": 10,
     "metadata": {},
     "output_type": "execute_result"
    }
   ],
   "source": [
    "dataset[\"target\"].describe()"
   ]
  },
  {
   "cell_type": "code",
   "execution_count": 11,
   "metadata": {
    "_uuid": "9c107b83e0148914826282bf1f0ab28505d577ab"
   },
   "outputs": [
    {
     "data": {
      "text/plain": [
       "array([1, 0], dtype=int64)"
      ]
     },
     "execution_count": 11,
     "metadata": {},
     "output_type": "execute_result"
    }
   ],
   "source": [
    "dataset[\"target\"].unique()"
   ]
  },
  {
   "cell_type": "markdown",
   "metadata": {
    "_uuid": "8c96e97e3f52844e8c4c6ff069f53bfe97c9982d"
   },
   "source": [
    "#### Clearly, this is a classification problem, with the target variable having values '0' and '1'"
   ]
  },
  {
   "cell_type": "markdown",
   "metadata": {
    "_uuid": "3ae0dfa26e2daf4cfc8e1c6f3b5008d0dab22ec0"
   },
   "source": [
    "### Checking correlation between columns"
   ]
  },
  {
   "cell_type": "code",
   "execution_count": 12,
   "metadata": {
    "_uuid": "3059188d3874be2e0c80e13655609ac6a6fc644f"
   },
   "outputs": [
    {
     "name": "stdout",
     "output_type": "stream",
     "text": [
      "target      1.000000\n",
      "exang       0.436757\n",
      "cp          0.433798\n",
      "oldpeak     0.430696\n",
      "thalach     0.421741\n",
      "ca          0.391724\n",
      "slope       0.345877\n",
      "thal        0.344029\n",
      "sex         0.280937\n",
      "age         0.225439\n",
      "trestbps    0.144931\n",
      "restecg     0.137230\n",
      "chol        0.085239\n",
      "fbs         0.028046\n",
      "Name: target, dtype: float64\n"
     ]
    }
   ],
   "source": [
    "print(dataset.corr()[\"target\"].abs().sort_values(ascending=False))"
   ]
  },
  {
   "cell_type": "code",
   "execution_count": 13,
   "metadata": {
    "_uuid": "6e8cf6f86952d94764c1021207fa5b383b2b84bf"
   },
   "outputs": [],
   "source": [
    "#This shows that most columns are moderately correlated with target, but 'fbs' is very weakly correlated."
   ]
  },
  {
   "cell_type": "code",
   "execution_count": 14,
   "metadata": {},
   "outputs": [
    {
     "data": {
      "image/png": "[encoded data removed]",
      "text/plain": [
       "<Figure size 800x800 with 2 Axes>"
      ]
     },
     "metadata": {},
     "output_type": "display_data"
    }
   ],
   "source": [
    "plt.figure(figsize=[8,8])\n",
    "sns.heatmap(dataset.corr(),annot=True, cmap='Blues', linecolor='Green', linewidths=2.0)\n",
    "plt.show()"
   ]
  },
  {
   "cell_type": "markdown",
   "metadata": {
    "_uuid": "40b6c0a9d03bcab78b87bd41c7df3fe1b930547a"
   },
   "source": [
    "## Exploratory Data Analysis (EDA)"
   ]
  },
  {
   "cell_type": "markdown",
   "metadata": {
    "_uuid": "41da6ba94903ad6ee64b1ba6a1462815ae603536"
   },
   "source": [
    "### First, analysing the target variable:"
   ]
  },
  {
   "cell_type": "code",
   "execution_count": 15,
   "metadata": {
    "_uuid": "29aa23ccb8e6438688e16346b3474f4cc03bae13"
   },
   "outputs": [
    {
     "name": "stdout",
     "output_type": "stream",
     "text": [
      "1    165\n",
      "0    138\n",
      "Name: target, dtype: int64\n"
     ]
    },
    {
     "data": {
      "image/png": "[encoded data removed]",
      "text/plain": [
       "<Figure size 640x480 with 1 Axes>"
      ]
     },
     "metadata": {},
     "output_type": "display_data"
    }
   ],
   "source": [
    "y = dataset[\"target\"]\n",
    "\n",
    "sns.countplot(y)\n",
    "\n",
    "\n",
    "target_temp = dataset.target.value_counts()\n",
    "\n",
    "print(target_temp)"
   ]
  },
  {
   "cell_type": "code",
   "execution_count": 16,
   "metadata": {
    "_uuid": "5240af8bcd12736900050cea077c713d7d9641df"
   },
   "outputs": [
    {
     "name": "stdout",
     "output_type": "stream",
     "text": [
      "Percentage of patience without heart problems: 45.54\n",
      "Percentage of patience with heart problems: 54.46\n"
     ]
    }
   ],
   "source": [
    "print(\"Percentage of patience without heart problems: \"+str(round(target_temp[0]*100/303,2)))\n",
    "print(\"Percentage of patience with heart problems: \"+str(round(target_temp[1]*100/303,2)))\n"
   ]
  },
  {
   "cell_type": "markdown",
   "metadata": {
    "_uuid": "e7de1da221d4ee72e89c365fecfa7d4506f1b184"
   },
   "source": [
    "### We'll analyse 'sex', 'cp', 'fbs', 'restecg', 'exang', 'slope', 'ca' and 'thal' features"
   ]
  },
  {
   "cell_type": "markdown",
   "metadata": {
    "_uuid": "82f9919a1312b53f22980a0071d077e5b0288d90"
   },
   "source": [
    "### Analysing the 'Sex' feature"
   ]
  },
  {
   "cell_type": "code",
   "execution_count": 17,
   "metadata": {
    "_uuid": "07a3fb2f44b82360d0393377029851655bcdcd31"
   },
   "outputs": [
    {
     "data": {
      "text/plain": [
       "array([1, 0], dtype=int64)"
      ]
     },
     "execution_count": 17,
     "metadata": {},
     "output_type": "execute_result"
    }
   ],
   "source": [
    "dataset[\"sex\"].unique()"
   ]
  },
  {
   "cell_type": "markdown",
   "metadata": {
    "_uuid": "623fe97e454ea061942ec6d948adeb5b7026cc65"
   },
   "source": [
    "##### We notice, that as expected, the 'sex' feature has 2 unique features"
   ]
  },
  {
   "cell_type": "code",
   "execution_count": 18,
   "metadata": {
    "_uuid": "5d10e6c167251e6d3b1b82a06159da234eeef721"
   },
   "outputs": [
    {
     "ename": "TypeError",
     "evalue": "barplot() takes from 0 to 1 positional arguments but 2 were given",
     "output_type": "error",
     "traceback": [
      "\u001b[1;31m---------------------------------------------------------------------------\u001b[0m",
      "\u001b[1;31mTypeError\u001b[0m                                 Traceback (most recent call last)",
      "Cell \u001b[1;32mIn[18], line 1\u001b[0m\n\u001b[1;32m----> 1\u001b[0m \u001b[43msns\u001b[49m\u001b[38;5;241;43m.\u001b[39;49m\u001b[43mbarplot\u001b[49m\u001b[43m(\u001b[49m\u001b[43mdataset\u001b[49m\u001b[43m[\u001b[49m\u001b[38;5;124;43m\"\u001b[39;49m\u001b[38;5;124;43msex\u001b[39;49m\u001b[38;5;124;43m\"\u001b[39;49m\u001b[43m]\u001b[49m\u001b[43m,\u001b[49m\u001b[43my\u001b[49m\u001b[43m)\u001b[49m\n",
      "\u001b[1;31mTypeError\u001b[0m: barplot() takes from 0 to 1 positional arguments but 2 were given"
     ]
    }
   ],
   "source": [
    "sns.barplot(dataset[\"sex\"],y)"
   ]
  },
  {
   "cell_type": "markdown",
   "metadata": {
    "_uuid": "31142d6b72ae034487a088860fe9c7ff85cf7ca2"
   },
   "source": [
    "##### We notice, that females are more likely to have heart problems than males"
   ]
  },
  {
   "cell_type": "markdown",
   "metadata": {
    "_uuid": "f7bbd747b02746eadfa2b525544509c8545ac1af"
   },
   "source": [
    "### Analysing the 'Chest Pain Type' feature"
   ]
  },
  {
   "cell_type": "code",
   "execution_count": null,
   "metadata": {
    "_uuid": "7c795d4a86ee05d58e10a412add90065afbd4a70"
   },
   "outputs": [],
   "source": [
    "dataset[\"cp\"].unique()"
   ]
  },
  {
   "cell_type": "markdown",
   "metadata": {
    "_uuid": "4e83947e6876ffa63837c7e5ce1364a53cbfa499"
   },
   "source": [
    "##### As expected, the CP feature has values from 0 to 3"
   ]
  },
  {
   "cell_type": "code",
   "execution_count": null,
   "metadata": {
    "_uuid": "56d6ed2b3d8d20a61814980cd459502b452d14c1"
   },
   "outputs": [],
   "source": [
    "sns.barplot(dataset[\"cp\"],y)"
   ]
  },
  {
   "cell_type": "markdown",
   "metadata": {
    "_uuid": "510c7c3a7386a7e308cc6052025dc806fad61534"
   },
   "source": [
    "##### We notice, that chest pain of '0', i.e. the ones with typical angina are much less likely to have heart problems"
   ]
  },
  {
   "cell_type": "markdown",
   "metadata": {
    "_uuid": "bb50bd1cedd31d29683e2411439368aa1390e7ef"
   },
   "source": [
    "### Analysing the FBS feature"
   ]
  },
  {
   "cell_type": "code",
   "execution_count": null,
   "metadata": {
    "_uuid": "55f9ca01da5294b5404f3eb14d202ae90e0ea1bf"
   },
   "outputs": [],
   "source": [
    "dataset[\"fbs\"].describe()"
   ]
  },
  {
   "cell_type": "code",
   "execution_count": null,
   "metadata": {
    "_uuid": "43d491d311a8b96a6a9cbecbeff87f577584cd3a"
   },
   "outputs": [],
   "source": [
    "dataset[\"fbs\"].unique()"
   ]
  },
  {
   "cell_type": "code",
   "execution_count": null,
   "metadata": {
    "_uuid": "90509dcee97df858115131c771e69347a044aafb"
   },
   "outputs": [],
   "source": [
    "sns.barplot(dataset[\"fbs\"],y)"
   ]
  },
  {
   "cell_type": "markdown",
   "metadata": {
    "_uuid": "7ec0ef582de18e2ddd06083d4caca7f760ba3700"
   },
   "source": [
    "##### Nothing extraordinary here"
   ]
  },
  {
   "cell_type": "markdown",
   "metadata": {
    "_uuid": "5a8d6384c879ed40eddefed03b16607bc02deecf"
   },
   "source": [
    "### Analysing the restecg feature"
   ]
  },
  {
   "cell_type": "code",
   "execution_count": null,
   "metadata": {
    "_uuid": "b12fcc535fe07bc58aa99e97ec9b4e0b01f30a8d"
   },
   "outputs": [],
   "source": [
    "dataset[\"restecg\"].unique()"
   ]
  },
  {
   "cell_type": "code",
   "execution_count": null,
   "metadata": {
    "_uuid": "ccae9489c2b6e63adb87cef83d367f49ef08a133"
   },
   "outputs": [],
   "source": [
    "sns.barplot(dataset[\"restecg\"],y)"
   ]
  },
  {
   "cell_type": "markdown",
   "metadata": {
    "_uuid": "84cf1d3ca8d3507765bbb3763834c3795380f1bf"
   },
   "source": [
    "##### We realize that people with restecg '1' and '0' are much more likely to have a heart disease than with restecg '2'"
   ]
  },
  {
   "cell_type": "markdown",
   "metadata": {
    "_uuid": "efaf4d85a6837cf43bd5b33d4eaaf193bc6fedc1"
   },
   "source": [
    "### Analysing the 'exang' feature"
   ]
  },
  {
   "cell_type": "code",
   "execution_count": null,
   "metadata": {
    "_uuid": "53dd2985ea50aa6f9c9e5931050b4ef7b7aa609d"
   },
   "outputs": [],
   "source": [
    "dataset[\"exang\"].unique()"
   ]
  },
  {
   "cell_type": "code",
   "execution_count": null,
   "metadata": {
    "_uuid": "237a60a2a11dab86e50cafcee4ec47df752876a1"
   },
   "outputs": [],
   "source": [
    "sns.barplot(dataset[\"exang\"],y)"
   ]
  },
  {
   "cell_type": "markdown",
   "metadata": {
    "_uuid": "f442f08734344740ebc225af7a565bcb91962dca"
   },
   "source": [
    "##### People with exang=1 i.e. Exercise induced angina are much less likely to have heart problems"
   ]
  },
  {
   "cell_type": "markdown",
   "metadata": {
    "_uuid": "4ce2d649ededc2126324cd07ce430b005697e288"
   },
   "source": [
    "### Analysing the Slope feature"
   ]
  },
  {
   "cell_type": "code",
   "execution_count": null,
   "metadata": {
    "_uuid": "e1e148d25967c36d2bb5fbfb802c70dae93f8a4f"
   },
   "outputs": [],
   "source": [
    "dataset[\"slope\"].unique()"
   ]
  },
  {
   "cell_type": "code",
   "execution_count": null,
   "metadata": {
    "_uuid": "beaa943c166b3c550fe357e6e937dbda46b707c9"
   },
   "outputs": [],
   "source": [
    "sns.barplot(dataset[\"slope\"],y)"
   ]
  },
  {
   "cell_type": "markdown",
   "metadata": {
    "_uuid": "3141a4a203dd433dd7af6c02c1d0b44d048656a0"
   },
   "source": [
    "##### We observe, that Slope '2' causes heart pain much more than Slope '0' and '1'"
   ]
  },
  {
   "cell_type": "markdown",
   "metadata": {
    "_uuid": "c0b39456274f1e0f402704714494161ddc55f16a"
   },
   "source": [
    "### Analysing the 'ca' feature"
   ]
  },
  {
   "cell_type": "code",
   "execution_count": null,
   "metadata": {
    "_uuid": "50db41d7e9ebe645bc7c6fcbaf26194176c274db"
   },
   "outputs": [],
   "source": [
    "#number of major vessels (0-3) colored by flourosopy"
   ]
  },
  {
   "cell_type": "code",
   "execution_count": null,
   "metadata": {
    "_uuid": "a3b7ed6661d24dc399963afbca1e08d79243b431"
   },
   "outputs": [],
   "source": [
    "dataset[\"ca\"].unique()"
   ]
  },
  {
   "cell_type": "code",
   "execution_count": null,
   "metadata": {
    "_uuid": "f463859906d0287c68152ebe3cadc241e569802c"
   },
   "outputs": [],
   "source": [
    "sns.countplot(dataset[\"ca\"])"
   ]
  },
  {
   "cell_type": "code",
   "execution_count": null,
   "metadata": {
    "_uuid": "81483318bc63c7434eeb75515483c329abcf15e3"
   },
   "outputs": [],
   "source": [
    "sns.barplot(dataset[\"ca\"],y)"
   ]
  },
  {
   "cell_type": "markdown",
   "metadata": {
    "_uuid": "87671e11e19372848af999bb17d061f577eb08b5"
   },
   "source": [
    "##### ca=4 has astonishingly large number of heart patients"
   ]
  },
  {
   "cell_type": "code",
   "execution_count": null,
   "metadata": {
    "_uuid": "b4b057d99c7c3cdbe9e304a75b399f214f352aba"
   },
   "outputs": [],
   "source": [
    "### Analysing the 'thal' feature"
   ]
  },
  {
   "cell_type": "code",
   "execution_count": null,
   "metadata": {
    "_uuid": "16eaf9a5f7433be2028369818aa54e2bf01e544e"
   },
   "outputs": [],
   "source": [
    "dataset[\"thal\"].unique()"
   ]
  },
  {
   "cell_type": "code",
   "execution_count": null,
   "metadata": {
    "_uuid": "08947d9c4b05d68b2fe5ae70e33566063c44f8d4"
   },
   "outputs": [],
   "source": [
    "sns.barplot(dataset[\"thal\"],y)"
   ]
  },
  {
   "cell_type": "code",
   "execution_count": null,
   "metadata": {
    "_uuid": "dc84bb1643cbed20e8ac5980db59ffd54d5b581c"
   },
   "outputs": [],
   "source": [
    "sns.distplot(dataset[\"thal\"])"
   ]
  },
  {
   "cell_type": "markdown",
   "metadata": {
    "_uuid": "d1c95f2180e264978c85703ece34898dab4d522b"
   },
   "source": [
    "## IV. Train Test split"
   ]
  },
  {
   "cell_type": "code",
   "execution_count": null,
   "metadata": {
    "_uuid": "829fcda5b63e1b9f7ecb7762e8ca617166533aca"
   },
   "outputs": [],
   "source": [
    "from sklearn.model_selection import train_test_split\n",
    "\n",
    "predictors = dataset.drop(\"target\",axis=1)\n",
    "target = dataset[\"target\"]\n",
    "\n",
    "X_train,X_test,Y_train,Y_test = train_test_split(predictors,target,test_size=0.20,random_state=0)"
   ]
  },
  {
   "cell_type": "code",
   "execution_count": null,
   "metadata": {
    "_uuid": "7a74842015c2f193d16caa4fa25e2c4cbf1940f8"
   },
   "outputs": [],
   "source": [
    "X_train.shape"
   ]
  },
  {
   "cell_type": "code",
   "execution_count": null,
   "metadata": {
    "_uuid": "1f777652df4521deb877dac4d5d635d8cd35b279"
   },
   "outputs": [],
   "source": [
    "X_test.shape"
   ]
  },
  {
   "cell_type": "code",
   "execution_count": null,
   "metadata": {
    "_uuid": "028c968a076840657faf7dbc3bfee9fe7b5ca45a"
   },
   "outputs": [],
   "source": [
    "Y_train.shape"
   ]
  },
  {
   "cell_type": "code",
   "execution_count": null,
   "metadata": {
    "_uuid": "eb6857dfc18da52dae38bec95d20106f39136e61"
   },
   "outputs": [],
   "source": [
    "Y_test.shape"
   ]
  },
  {
   "cell_type": "markdown",
   "metadata": {
    "_uuid": "3b4f28488a92917f26e9876c1880295ec9c077ed"
   },
   "source": [
    "## V. Model Fitting"
   ]
  },
  {
   "cell_type": "code",
   "execution_count": null,
   "metadata": {
    "_uuid": "fe363c1be8335a48a4444660db5fa6bd0a24b71a"
   },
   "outputs": [],
   "source": [
    "from sklearn.metrics import accuracy_score"
   ]
  },
  {
   "cell_type": "markdown",
   "metadata": {
    "_uuid": "afa6b322cbc225f3353bd295aea24fe5fbbb78fe"
   },
   "source": [
    "### Logistic Regression"
   ]
  },
  {
   "cell_type": "code",
   "execution_count": null,
   "metadata": {
    "_uuid": "9aea2f597203ccf38cd0d67ae58bff6e163dea1c"
   },
   "outputs": [],
   "source": [
    "from sklearn.linear_model import LogisticRegression\n",
    "\n",
    "lr = LogisticRegression()\n",
    "\n",
    "lr.fit(X_train,Y_train)\n",
    "\n",
    "Y_pred_lr = lr.predict(X_test)"
   ]
  },
  {
   "cell_type": "code",
   "execution_count": null,
   "metadata": {
    "_uuid": "58fb833d1c74355ebdafe926968632942f377421"
   },
   "outputs": [],
   "source": [
    "Y_pred_lr.shape"
   ]
  },
  {
   "cell_type": "code",
   "execution_count": null,
   "metadata": {
    "_uuid": "ee4cba838316adf863f8daf131d36a970d36b839"
   },
   "outputs": [],
   "source": [
    "score_lr = round(accuracy_score(Y_pred_lr,Y_test)*100,2)\n",
    "\n",
    "print(\"The accuracy score achieved using Logistic Regression is: \"+str(score_lr)+\" %\")"
   ]
  },
  {
   "cell_type": "markdown",
   "metadata": {
    "_uuid": "4f92fceb9584ae03d3ab370ee11899cb287be690"
   },
   "source": [
    "### Naive Bayes"
   ]
  },
  {
   "cell_type": "code",
   "execution_count": null,
   "metadata": {
    "_uuid": "ffcdab99b4108902547f0179a242a9757078dc68"
   },
   "outputs": [],
   "source": [
    "from sklearn.naive_bayes import GaussianNB\n",
    "\n",
    "nb = GaussianNB()\n",
    "\n",
    "nb.fit(X_train,Y_train)\n",
    "\n",
    "Y_pred_nb = nb.predict(X_test)"
   ]
  },
  {
   "cell_type": "code",
   "execution_count": null,
   "metadata": {
    "_uuid": "9109059d06e4c92494451b3cdab0bbb5a1816072"
   },
   "outputs": [],
   "source": [
    "Y_pred_nb.shape"
   ]
  },
  {
   "cell_type": "code",
   "execution_count": null,
   "metadata": {
    "_uuid": "e8f8f55db061ada0b669ffa46e9ecc745fcda1ae"
   },
   "outputs": [],
   "source": [
    "score_nb = round(accuracy_score(Y_pred_nb,Y_test)*100,2)\n",
    "\n",
    "print(\"The accuracy score achieved using Naive Bayes is: \"+str(score_nb)+\" %\")"
   ]
  },
  {
   "cell_type": "markdown",
   "metadata": {
    "_uuid": "2af8b010893284bae0d6cccf66ccfda646e7ca58"
   },
   "source": [
    "### SVM"
   ]
  },
  {
   "cell_type": "code",
   "execution_count": null,
   "metadata": {
    "_uuid": "f1936ece7b76b67e552758a4c80e9421bffe0bc2"
   },
   "outputs": [],
   "source": [
    "from sklearn import svm\n",
    "\n",
    "sv = svm.SVC(kernel='linear')\n",
    "\n",
    "sv.fit(X_train, Y_train)\n",
    "\n",
    "Y_pred_svm = sv.predict(X_test)"
   ]
  },
  {
   "cell_type": "code",
   "execution_count": null,
   "metadata": {
    "_uuid": "36f60f104264d44760705b9c802504f426e15592"
   },
   "outputs": [],
   "source": [
    "Y_pred_svm.shape"
   ]
  },
  {
   "cell_type": "code",
   "execution_count": null,
   "metadata": {
    "_uuid": "f5a73bca6721f42b3983c328fd475390ba9bc4d3"
   },
   "outputs": [],
   "source": [
    "score_svm = round(accuracy_score(Y_pred_svm,Y_test)*100,2)\n",
    "\n",
    "print(\"The accuracy score achieved using Linear SVM is: \"+str(score_svm)+\" %\")"
   ]
  },
  {
   "cell_type": "markdown",
   "metadata": {
    "_uuid": "4e26d165b57f3f7882570964f1c2dc4a548404de"
   },
   "source": [
    "### K Nearest Neighbors"
   ]
  },
  {
   "cell_type": "code",
   "execution_count": null,
   "metadata": {
    "_uuid": "286352867c53d5fb7dac2fc9bf4b2ac58a466ad0"
   },
   "outputs": [],
   "source": [
    "from sklearn.neighbors import KNeighborsClassifier\n",
    "\n",
    "knn = KNeighborsClassifier(n_neighbors=7)\n",
    "knn.fit(X_train,Y_train)\n",
    "Y_pred_knn=knn.predict(X_test)"
   ]
  },
  {
   "cell_type": "code",
   "execution_count": null,
   "metadata": {
    "_uuid": "bccb7c1fcec36dd2eb7eb222f49604029adec2b4"
   },
   "outputs": [],
   "source": [
    "Y_pred_knn.shape"
   ]
  },
  {
   "cell_type": "code",
   "execution_count": null,
   "metadata": {
    "_uuid": "dda4e8f8f18f96557cdd38cee177de0456db5f45"
   },
   "outputs": [],
   "source": [
    "score_knn = round(accuracy_score(Y_pred_knn,Y_test)*100,2)\n",
    "\n",
    "print(\"The accuracy score achieved using KNN is: \"+str(score_knn)+\" %\")"
   ]
  },
  {
   "cell_type": "markdown",
   "metadata": {
    "_uuid": "abb767170c662e4d9a8b240fd0fd7286ffb0b67f"
   },
   "source": [
    "### Decision Tree"
   ]
  },
  {
   "cell_type": "code",
   "execution_count": null,
   "metadata": {
    "_uuid": "8c141316764dce80103d1879c9b17d853702a746"
   },
   "outputs": [],
   "source": [
    "from sklearn.tree import DecisionTreeClassifier\n",
    "\n",
    "max_accuracy = 0\n",
    "\n",
    "\n",
    "for x in range(200):\n",
    "    dt = DecisionTreeClassifier(random_state=x)\n",
    "    dt.fit(X_train,Y_train)\n",
    "    Y_pred_dt = dt.predict(X_test)\n",
    "    current_accuracy = round(accuracy_score(Y_pred_dt,Y_test)*100,2)\n",
    "    if(current_accuracy>max_accuracy):\n",
    "        max_accuracy = current_accuracy\n",
    "        best_x = x\n",
    "        \n",
    "#print(max_accuracy)\n",
    "#print(best_x)\n",
    "\n",
    "\n",
    "dt = DecisionTreeClassifier(random_state=best_x)\n",
    "dt.fit(X_train,Y_train)\n",
    "Y_pred_dt = dt.predict(X_test)"
   ]
  },
  {
   "cell_type": "code",
   "execution_count": null,
   "metadata": {
    "_uuid": "8de0bd2d57abd24d3a97a5b020a24439eb106f2b"
   },
   "outputs": [],
   "source": [
    "print(Y_pred_dt.shape)"
   ]
  },
  {
   "cell_type": "code",
   "execution_count": null,
   "metadata": {
    "_uuid": "52ab93482d3b53824e9bc2b3e4114c57253e0c5b"
   },
   "outputs": [],
   "source": [
    "score_dt = round(accuracy_score(Y_pred_dt,Y_test)*100,2)\n",
    "\n",
    "print(\"The accuracy score achieved using Decision Tree is: \"+str(score_dt)+\" %\")"
   ]
  },
  {
   "cell_type": "markdown",
   "metadata": {
    "_uuid": "9e663d26efb00a434751f06ad0292949eff6c358"
   },
   "source": [
    "### Random Forest"
   ]
  },
  {
   "cell_type": "code",
   "execution_count": null,
   "metadata": {
    "_uuid": "8284f5222cf90be1bcd37887c45f91cf22ed1193"
   },
   "outputs": [],
   "source": [
    "from sklearn.ensemble import RandomForestClassifier\n",
    "\n",
    "max_accuracy = 0\n",
    "\n",
    "\n",
    "for x in range(2000):\n",
    "    rf = RandomForestClassifier(random_state=x)\n",
    "    rf.fit(X_train,Y_train)\n",
    "    Y_pred_rf = rf.predict(X_test)\n",
    "    current_accuracy = round(accuracy_score(Y_pred_rf,Y_test)*100,2)\n",
    "    if(current_accuracy>max_accuracy):\n",
    "        max_accuracy = current_accuracy\n",
    "        best_x = x\n",
    "        \n",
    "#print(max_accuracy)\n",
    "#print(best_x)\n",
    "\n",
    "rf = RandomForestClassifier(random_state=best_x)\n",
    "rf.fit(X_train,Y_train)\n",
    "Y_pred_rf = rf.predict(X_test)"
   ]
  },
  {
   "cell_type": "code",
   "execution_count": null,
   "metadata": {
    "_uuid": "edc8e1cbb57be0aa9e9ad5f4997212d53a9a4c99"
   },
   "outputs": [],
   "source": [
    "Y_pred_rf.shape"
   ]
  },
  {
   "cell_type": "code",
   "execution_count": null,
   "metadata": {
    "_uuid": "965228f30e05e07e7960a3375dc7dc85b49caed7"
   },
   "outputs": [],
   "source": [
    "score_rf = round(accuracy_score(Y_pred_rf,Y_test)*100,2)\n",
    "\n",
    "print(\"The accuracy score achieved using Decision Tree is: \"+str(score_rf)+\" %\")"
   ]
  },
  {
   "cell_type": "markdown",
   "metadata": {
    "_uuid": "c634cd922d716d350f6db0244772260cc598dec4"
   },
   "source": [
    "## VI. Output final score"
   ]
  },
  {
   "cell_type": "code",
   "execution_count": null,
   "metadata": {
    "_uuid": "101daa51242624c49bb8b3198d9d2c9f8f1c596e"
   },
   "outputs": [],
   "source": [
    "scores = [score_lr,score_nb,score_svm,score_knn,score_dt,score_rf]\n",
    "algorithms = [\"Logistic Regression\",\"Naive Bayes\",\"Support Vector Machine\",\"K-Nearest Neighbors\",\"Decision Tree\",\"Random Forest\"]    \n",
    "\n",
    "for i in range(len(algorithms)):\n",
    "    print(\"The accuracy score achieved using \"+algorithms[i]+\" is: \"+str(scores[i])+\" %\")"
   ]
  },
  {
   "cell_type": "code",
   "execution_count": null,
   "metadata": {
    "_uuid": "8060c7d426f9f7b64772f37e0a74ededca16838d"
   },
   "outputs": [],
   "source": [
    "sns.set(rc={'figure.figsize':(15,8)})\n",
    "plt.xlabel(\"Algorithms\")\n",
    "plt.ylabel(\"Accuracy score\")\n",
    "\n",
    "sns.barplot(algorithms,scores)"
   ]
  },
  {
   "cell_type": "code",
   "execution_count": null,
   "metadata": {},
   "outputs": [],
   "source": []
  }
 ],
 "metadata": {
  "kernelspec": {
   "display_name": "Python 3 (ipykernel)",
   "language": "python",
   "name": "python3"
  },
  "language_info": {
   "codemirror_mode": {
    "name": "ipython",
    "version": 3
   },
   "file_extension": ".py",
   "mimetype": "text/x-python",
   "name": "python",
   "nbconvert_exporter": "python",
   "pygments_lexer": "ipython3",
   "version": "3.10.9"
  }
 },
 "nbformat": 4,
 "nbformat_minor": 1
}
